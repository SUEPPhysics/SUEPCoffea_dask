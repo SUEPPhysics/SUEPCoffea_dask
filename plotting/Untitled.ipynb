{
 "cells": [
  {
   "cell_type": "code",
   "execution_count": 3,
   "id": "d70f3289",
   "metadata": {},
   "outputs": [],
   "source": [
    "import itertools\n",
    "import uproot\n",
    "import awkward as ak\n",
    "import numpy as np\n",
    "import pandas as pd\n",
    "from coffea import nanoevents\n",
    "from coffea.nanoevents.schemas.base import BaseSchema, zip_forms, nest_jagged_forms\n",
    "from coffea.nanoevents.methods import base, vector\n",
    "import fastjet\n",
    "import math\n",
    "import matplotlib.pyplot as plt\n",
    "import matplotlib\n",
    "import mplhep as hep\n",
    "from numba import njit\n",
    "import hist\n",
    "from hist import Hist"
   ]
  },
  {
   "cell_type": "code",
   "execution_count": 4,
   "id": "9d636543",
   "metadata": {},
   "outputs": [],
   "source": [
    "plt.style.use(hep.style.CMS)"
   ]
  },
  {
   "cell_type": "code",
   "execution_count": 5,
   "id": "c2c0c7a0",
   "metadata": {},
   "outputs": [],
   "source": [
    "class TrackGenSchema(BaseSchema):\n",
    "  def __init__(self, base_form):\n",
    "    super().__init__(base_form)\n",
    "    self._form[\"contents\"] = self._build_collections(self._form[\"contents\"])\n",
    "\n",
    "  def _build_collections(self, branch_forms):\n",
    "    branch_forms['GenParticles_vertex'] = zip_forms(\n",
    "        {\n",
    "            'x': branch_forms.pop('GenParticles_vertex_x'),\n",
    "            'y': branch_forms.pop('GenParticles_vertex_y'),\n",
    "            'z': branch_forms.pop('GenParticles_vertex_z'),\n",
    "        }, 'GenParticles_vertex', 'ThreeVector')\n",
    "    branch_forms['Tracks_refPoint'] = zip_forms(\n",
    "        {\n",
    "            'x': branch_forms.pop('Tracks_refPoint_x'),\n",
    "            'y': branch_forms.pop('Tracks_refPoint_y'),\n",
    "            'z': branch_forms.pop('Tracks_refPoint_z'),\n",
    "        }, 'Tracks_refPoint', 'ThreeVector')\n",
    "    branch_forms['DVTracks_refPoint'] = zip_forms(\n",
    "        {\n",
    "            'x': branch_forms.pop('DVTracks_refPoint_x'),\n",
    "            'y': branch_forms.pop('DVTracks_refPoint_y'),\n",
    "            'z': branch_forms.pop('DVTracks_refPoint_z'),\n",
    "        }, 'DVTracks_refPoint', 'ThreeVector')\n",
    "    object_list = {\n",
    "        'PrimaryVertices': 'ThreeVector',\n",
    "        'GenVtx': 'ThreeVector',\n",
    "        'Tracks': 'PtEtaPhiELorentzVector',\n",
    "        'GenParticles': 'PtEtaPhiELorentzVector',\n",
    "        'RecHits': '',  ## RecHits doesn't have additional information\n",
    "        'DVertices': 'ThreeVector',\n",
    "        'DVTracks': 'PtEtaPhiELorentzVector',\n",
    "    }\n",
    "    for obj, behave in object_list.items():\n",
    "      key_list = [x for x in branch_forms.keys() if x.startswith(obj + '_')]\n",
    "      branch_forms[obj] = zip_forms(\n",
    "          {key[len(obj) + 1:]: branch_forms.pop(key)\n",
    "           for key in key_list}, obj, behave)\n",
    "\n",
    "    nest_jagged_forms(branch_forms[\"Tracks\"], branch_forms.pop(\"RecHits\"),\n",
    "                      \"nRecHits\", \"RecHits\")\n",
    "    nest_jagged_forms(branch_forms['DVertices'], branch_forms.pop(\"DVTracks\"),\n",
    "                      'nTracks', 'DVTracks')\n",
    "\n",
    "    return branch_forms\n",
    "\n",
    "  @property\n",
    "  def behavior(self):\n",
    "    \"\"\"Behaviors necessary to implement this schema\"\"\"\n",
    "    behavior = {}\n",
    "    behavior.update(base.behavior)\n",
    "    behavior.update(vector.behavior)\n",
    "    return behavior"
   ]
  },
  {
   "cell_type": "code",
   "execution_count": 56,
   "id": "7d682b94",
   "metadata": {},
   "outputs": [],
   "source": [
    "# Some common paths\n",
    "xrd_path = 'root://cmseos.fnal.gov//store/user/'\n",
    "filepath = xrd_path + 'yimuchen/EmergingJets/TrackGenNTuples/QCD_HT300to500_RECONTuple_3.root'"
   ]
  },
  {
   "cell_type": "code",
   "execution_count": 57,
   "id": "c511bb9a",
   "metadata": {},
   "outputs": [],
   "source": [
    "file = nanoevents.NanoEventsFactory.from_root(\n",
    "    filepath, \n",
    "    treepath='TrackGenNtuplizer/PreSelection',\n",
    "    schemaclass=TrackGenSchema,\n",
    ")\n",
    "events = file.events()"
   ]
  },
  {
   "cell_type": "code",
   "execution_count": 62,
   "id": "302f908f",
   "metadata": {},
   "outputs": [
    {
     "data": {
      "image/png": "[encoded data removed]",
      "text/plain": [
       "<Figure size 720x720 with 1 Axes>"
      ]
     },
     "metadata": {
      "needs_background": "light"
     },
     "output_type": "display_data"
    }
   ],
   "source": [
    "(\n",
    "    hist.Hist.new.Regular(30, 0, 30, name=\"algo\")\n",
    "    .Double()\n",
    "    .fill(ak.flatten(events.Tracks.algo))\n",
    "    .plot()\n",
    ")\n",
    "plt.yscale('log')"
   ]
  },
  {
   "cell_type": "code",
   "execution_count": 58,
   "id": "548a5492",
   "metadata": {},
   "outputs": [],
   "source": [
    "algo_global_muons = events.Tracks[events.Tracks.algo == 19]\n",
    "origAlgo_global_muons = events.Tracks[events.Tracks.origAlgo == 19]"
   ]
  },
  {
   "cell_type": "code",
   "execution_count": 59,
   "id": "32363df5",
   "metadata": {},
   "outputs": [
    {
     "data": {
      "text/plain": [
       "0"
      ]
     },
     "execution_count": 59,
     "metadata": {},
     "output_type": "execute_result"
    }
   ],
   "source": [
    "ak.sum(ak.num(algo_global_muons))"
   ]
  },
  {
   "cell_type": "code",
   "execution_count": 60,
   "id": "24f094b3",
   "metadata": {},
   "outputs": [
    {
     "data": {
      "text/plain": [
       "0"
      ]
     },
     "execution_count": 60,
     "metadata": {},
     "output_type": "execute_result"
    }
   ],
   "source": [
    "ak.sum(ak.num(origAlgo_global_muons))"
   ]
  },
  {
   "cell_type": "code",
   "execution_count": null,
   "id": "876e1d02",
   "metadata": {},
   "outputs": [],
   "source": []
  }
 ],
 "metadata": {
  "kernelspec": {
   "display_name": "myenv",
   "language": "python",
   "name": "myenv"
  },
  "language_info": {
   "codemirror_mode": {
    "name": "ipython",
    "version": 3
   },
   "file_extension": ".py",
   "mimetype": "text/x-python",
   "name": "python",
   "nbconvert_exporter": "python",
   "pygments_lexer": "ipython3",
   "version": "3.9.12"
  }
 },
 "nbformat": 4,
 "nbformat_minor": 5
}
