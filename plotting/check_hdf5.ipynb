{
 "cells": [
  {
   "cell_type": "markdown",
   "id": "26c7f632",
   "metadata": {},
   "source": [
    "## Check HDF5 File\n",
    "Utility notebook used when make_plots.py isn't working as expected.<br>\n",
    "Open an HDF5 output of workflows/SUEP_coffea.py and check out its contents."
   ]
  },
  {
   "cell_type": "code",
   "execution_count": 1,
   "id": "8db74d48",
   "metadata": {},
   "outputs": [],
   "source": [
    "import pandas as pd\n",
    "import matplotlib.pyplot as plt\n",
    "import numpy as np"
   ]
  },
  {
   "cell_type": "code",
   "execution_count": 2,
   "id": "b1db9d32",
   "metadata": {},
   "outputs": [],
   "source": [
    "def h5load(ifile, label):\n",
    "    with pd.HDFStore(ifile, 'r') as store:\n",
    "        data = store[label] \n",
    "        metadata = store.get_storer(label).attrs.metadata\n",
    "        return data, metadata"
   ]
  },
  {
   "cell_type": "code",
   "execution_count": 3,
   "id": "1af919da-4b06-4f70-af88-b9c58366ea3b",
   "metadata": {},
   "outputs": [],
   "source": [
    "#f = '/data/submit/akanugan/SUEP/IronMan4/QCD_HT500to700_TuneCP5_13TeV-madgraphMLM-pythia8+RunIISummer20UL17RECO-106X_mc2017_realistic_v6-v2+AODSIM/E2884FAC-3A48-274C-B62E-648C36013EBA.hdf5'\n",
    "f ='../out.hdf5'\n",
    "df,m  = h5load(f, 'vars')"
   ]
  },
  {
   "cell_type": "code",
   "execution_count": 5,
   "id": "3892b305-13a5-4aa6-bb26-63c71109d81b",
   "metadata": {},
   "outputs": [
    {
     "data": {
      "image/png": "[encoded data removed]",
      "text/plain": [
       "<Figure size 640x480 with 1 Axes>"
      ]
     },
     "metadata": {},
     "output_type": "display_data"
    }
   ],
   "source": [
    "_ = plt.hist(df['ht_JEC'], alpha=0.5, bins=np.linspace(0,3000,1500))\n",
    "plt.yscale('log')"
   ]
  },
  {
   "cell_type": "code",
   "execution_count": 5,
   "id": "25e28a00-8b50-44a9-bf70-426ace8a6b19",
   "metadata": {},
   "outputs": [
    {
     "data": {
      "text/html": [
       "<div>\n",
       "<style scoped>\n",
       "    .dataframe tbody tr th:only-of-type {\n",
       "        vertical-align: middle;\n",
       "    }\n",
       "\n",
       "    .dataframe tbody tr th {\n",
       "        vertical-align: top;\n",
       "    }\n",
       "\n",
       "    .dataframe thead th {\n",
       "        text-align: right;\n",
       "    }\n",
       "</style>\n",
       "<table border=\"1\" class=\"dataframe\">\n",
       "  <thead>\n",
       "    <tr style=\"text-align: right;\">\n",
       "      <th></th>\n",
       "      <th>ntracks_track_down</th>\n",
       "      <th>ngood_fastjets_track_down</th>\n",
       "      <th>SUEP_genMass_track_down</th>\n",
       "      <th>SUEP_genPt_track_down</th>\n",
       "      <th>SUEP_genEta_track_down</th>\n",
       "      <th>SUEP_genPhi_track_down</th>\n",
       "      <th>SUEP_nconst_CL_track_down</th>\n",
       "      <th>SUEP_pt_avg_b_CL_track_down</th>\n",
       "      <th>SUEP_S1_CL_track_down</th>\n",
       "      <th>SUEP_pt_avg_CL_track_down</th>\n",
       "      <th>...</th>\n",
       "      <th>SUEP_genPhi_diff_CL</th>\n",
       "      <th>SUEP_genR_diff_CL</th>\n",
       "      <th>ISR_nconst_CL</th>\n",
       "      <th>ISR_pt_avg_b_CL</th>\n",
       "      <th>ISR_S1_CL</th>\n",
       "      <th>ISR_pt_avg_CL</th>\n",
       "      <th>ISR_pt_CL</th>\n",
       "      <th>ISR_eta_CL</th>\n",
       "      <th>ISR_phi_CL</th>\n",
       "      <th>ISR_mass_CL</th>\n",
       "    </tr>\n",
       "  </thead>\n",
       "  <tbody>\n",
       "    <tr>\n",
       "      <th>0</th>\n",
       "      <td>361</td>\n",
       "      <td>2</td>\n",
       "      <td>900.0</td>\n",
       "      <td>748.0</td>\n",
       "      <td>-0.400391</td>\n",
       "      <td>-1.796875</td>\n",
       "      <td>259.0</td>\n",
       "      <td>1.594425</td>\n",
       "      <td>0.850099</td>\n",
       "      <td>3.231760</td>\n",
       "      <td>...</td>\n",
       "      <td>-0.008327</td>\n",
       "      <td>0.109132</td>\n",
       "      <td>49.0</td>\n",
       "      <td>1.550662</td>\n",
       "      <td>0.557968</td>\n",
       "      <td>4.791424</td>\n",
       "      <td>223.310389</td>\n",
       "      <td>1.389349</td>\n",
       "      <td>1.345037</td>\n",
       "      <td>124.658636</td>\n",
       "    </tr>\n",
       "    <tr>\n",
       "      <th>1</th>\n",
       "      <td>334</td>\n",
       "      <td>2</td>\n",
       "      <td>900.0</td>\n",
       "      <td>578.0</td>\n",
       "      <td>0.126465</td>\n",
       "      <td>-1.921875</td>\n",
       "      <td>212.0</td>\n",
       "      <td>1.810058</td>\n",
       "      <td>0.824242</td>\n",
       "      <td>3.262748</td>\n",
       "      <td>...</td>\n",
       "      <td>0.016692</td>\n",
       "      <td>0.032041</td>\n",
       "      <td>76.0</td>\n",
       "      <td>3.097220</td>\n",
       "      <td>0.563378</td>\n",
       "      <td>5.314003</td>\n",
       "      <td>347.720250</td>\n",
       "      <td>1.006906</td>\n",
       "      <td>1.416104</td>\n",
       "      <td>378.136831</td>\n",
       "    </tr>\n",
       "    <tr>\n",
       "      <th>2</th>\n",
       "      <td>326</td>\n",
       "      <td>3</td>\n",
       "      <td>900.0</td>\n",
       "      <td>684.0</td>\n",
       "      <td>0.902344</td>\n",
       "      <td>-0.309570</td>\n",
       "      <td>211.0</td>\n",
       "      <td>1.880002</td>\n",
       "      <td>0.748618</td>\n",
       "      <td>3.470199</td>\n",
       "      <td>...</td>\n",
       "      <td>-0.009688</td>\n",
       "      <td>0.204980</td>\n",
       "      <td>47.0</td>\n",
       "      <td>1.644151</td>\n",
       "      <td>0.561985</td>\n",
       "      <td>6.911286</td>\n",
       "      <td>306.925249</td>\n",
       "      <td>1.750085</td>\n",
       "      <td>-2.715675</td>\n",
       "      <td>156.449336</td>\n",
       "    </tr>\n",
       "    <tr>\n",
       "      <th>3</th>\n",
       "      <td>307</td>\n",
       "      <td>1</td>\n",
       "      <td>900.0</td>\n",
       "      <td>458.0</td>\n",
       "      <td>-0.623047</td>\n",
       "      <td>-1.937500</td>\n",
       "      <td>NaN</td>\n",
       "      <td>NaN</td>\n",
       "      <td>NaN</td>\n",
       "      <td>NaN</td>\n",
       "      <td>...</td>\n",
       "      <td>NaN</td>\n",
       "      <td>NaN</td>\n",
       "      <td>NaN</td>\n",
       "      <td>NaN</td>\n",
       "      <td>NaN</td>\n",
       "      <td>NaN</td>\n",
       "      <td>NaN</td>\n",
       "      <td>NaN</td>\n",
       "      <td>NaN</td>\n",
       "      <td>NaN</td>\n",
       "    </tr>\n",
       "    <tr>\n",
       "      <th>4</th>\n",
       "      <td>368</td>\n",
       "      <td>2</td>\n",
       "      <td>900.0</td>\n",
       "      <td>892.0</td>\n",
       "      <td>-0.650391</td>\n",
       "      <td>2.671875</td>\n",
       "      <td>245.0</td>\n",
       "      <td>2.018462</td>\n",
       "      <td>0.821302</td>\n",
       "      <td>4.088744</td>\n",
       "      <td>...</td>\n",
       "      <td>0.023848</td>\n",
       "      <td>0.044394</td>\n",
       "      <td>59.0</td>\n",
       "      <td>3.917717</td>\n",
       "      <td>0.236574</td>\n",
       "      <td>13.905087</td>\n",
       "      <td>789.884226</td>\n",
       "      <td>0.903963</td>\n",
       "      <td>-0.484280</td>\n",
       "      <td>265.960387</td>\n",
       "    </tr>\n",
       "    <tr>\n",
       "      <th>...</th>\n",
       "      <td>...</td>\n",
       "      <td>...</td>\n",
       "      <td>...</td>\n",
       "      <td>...</td>\n",
       "      <td>...</td>\n",
       "      <td>...</td>\n",
       "      <td>...</td>\n",
       "      <td>...</td>\n",
       "      <td>...</td>\n",
       "      <td>...</td>\n",
       "      <td>...</td>\n",
       "      <td>...</td>\n",
       "      <td>...</td>\n",
       "      <td>...</td>\n",
       "      <td>...</td>\n",
       "      <td>...</td>\n",
       "      <td>...</td>\n",
       "      <td>...</td>\n",
       "      <td>...</td>\n",
       "      <td>...</td>\n",
       "      <td>...</td>\n",
       "    </tr>\n",
       "    <tr>\n",
       "      <th>99</th>\n",
       "      <td>313</td>\n",
       "      <td>2</td>\n",
       "      <td>900.0</td>\n",
       "      <td>373.0</td>\n",
       "      <td>0.943359</td>\n",
       "      <td>2.492188</td>\n",
       "      <td>145.0</td>\n",
       "      <td>1.691220</td>\n",
       "      <td>0.727647</td>\n",
       "      <td>2.938534</td>\n",
       "      <td>...</td>\n",
       "      <td>0.165434</td>\n",
       "      <td>0.498877</td>\n",
       "      <td>110.0</td>\n",
       "      <td>1.954893</td>\n",
       "      <td>0.382104</td>\n",
       "      <td>3.394793</td>\n",
       "      <td>295.475207</td>\n",
       "      <td>1.294505</td>\n",
       "      <td>0.289459</td>\n",
       "      <td>306.145736</td>\n",
       "    </tr>\n",
       "    <tr>\n",
       "      <th>100</th>\n",
       "      <td>377</td>\n",
       "      <td>2</td>\n",
       "      <td>900.0</td>\n",
       "      <td>536.0</td>\n",
       "      <td>0.609375</td>\n",
       "      <td>0.941406</td>\n",
       "      <td>226.0</td>\n",
       "      <td>1.800882</td>\n",
       "      <td>0.719265</td>\n",
       "      <td>2.947998</td>\n",
       "      <td>...</td>\n",
       "      <td>-0.129294</td>\n",
       "      <td>0.284276</td>\n",
       "      <td>74.0</td>\n",
       "      <td>1.847132</td>\n",
       "      <td>0.646112</td>\n",
       "      <td>4.401526</td>\n",
       "      <td>306.979750</td>\n",
       "      <td>0.564219</td>\n",
       "      <td>-2.094723</td>\n",
       "      <td>166.268645</td>\n",
       "    </tr>\n",
       "    <tr>\n",
       "      <th>101</th>\n",
       "      <td>332</td>\n",
       "      <td>2</td>\n",
       "      <td>900.0</td>\n",
       "      <td>234.5</td>\n",
       "      <td>1.511719</td>\n",
       "      <td>-2.984375</td>\n",
       "      <td>174.0</td>\n",
       "      <td>1.906613</td>\n",
       "      <td>0.608680</td>\n",
       "      <td>3.520715</td>\n",
       "      <td>...</td>\n",
       "      <td>0.608577</td>\n",
       "      <td>1.425564</td>\n",
       "      <td>98.0</td>\n",
       "      <td>1.554452</td>\n",
       "      <td>0.385797</td>\n",
       "      <td>4.561793</td>\n",
       "      <td>399.429586</td>\n",
       "      <td>1.409481</td>\n",
       "      <td>0.745140</td>\n",
       "      <td>275.604634</td>\n",
       "    </tr>\n",
       "    <tr>\n",
       "      <th>102</th>\n",
       "      <td>273</td>\n",
       "      <td>2</td>\n",
       "      <td>900.0</td>\n",
       "      <td>463.0</td>\n",
       "      <td>-2.125000</td>\n",
       "      <td>0.970703</td>\n",
       "      <td>200.0</td>\n",
       "      <td>1.928334</td>\n",
       "      <td>0.746659</td>\n",
       "      <td>2.967859</td>\n",
       "      <td>...</td>\n",
       "      <td>-0.020722</td>\n",
       "      <td>0.511621</td>\n",
       "      <td>25.0</td>\n",
       "      <td>3.576687</td>\n",
       "      <td>0.374228</td>\n",
       "      <td>12.176270</td>\n",
       "      <td>299.864483</td>\n",
       "      <td>-0.081526</td>\n",
       "      <td>-2.167971</td>\n",
       "      <td>109.324359</td>\n",
       "    </tr>\n",
       "    <tr>\n",
       "      <th>103</th>\n",
       "      <td>352</td>\n",
       "      <td>2</td>\n",
       "      <td>900.0</td>\n",
       "      <td>1048.0</td>\n",
       "      <td>-0.636719</td>\n",
       "      <td>0.521484</td>\n",
       "      <td>282.0</td>\n",
       "      <td>1.814558</td>\n",
       "      <td>0.843026</td>\n",
       "      <td>3.945292</td>\n",
       "      <td>...</td>\n",
       "      <td>-0.028233</td>\n",
       "      <td>0.098220</td>\n",
       "      <td>42.0</td>\n",
       "      <td>3.390719</td>\n",
       "      <td>0.435528</td>\n",
       "      <td>23.936376</td>\n",
       "      <td>999.137396</td>\n",
       "      <td>1.428867</td>\n",
       "      <td>-2.576114</td>\n",
       "      <td>175.123632</td>\n",
       "    </tr>\n",
       "  </tbody>\n",
       "</table>\n",
       "<p>104 rows × 76 columns</p>\n",
       "</div>"
      ],
      "text/plain": [
       "     ntracks_track_down  ngood_fastjets_track_down  SUEP_genMass_track_down  \\\n",
       "0                   361                          2                    900.0   \n",
       "1                   334                          2                    900.0   \n",
       "2                   326                          3                    900.0   \n",
       "3                   307                          1                    900.0   \n",
       "4                   368                          2                    900.0   \n",
       "..                  ...                        ...                      ...   \n",
       "99                  313                          2                    900.0   \n",
       "100                 377                          2                    900.0   \n",
       "101                 332                          2                    900.0   \n",
       "102                 273                          2                    900.0   \n",
       "103                 352                          2                    900.0   \n",
       "\n",
       "     SUEP_genPt_track_down  SUEP_genEta_track_down  SUEP_genPhi_track_down  \\\n",
       "0                    748.0               -0.400391               -1.796875   \n",
       "1                    578.0                0.126465               -1.921875   \n",
       "2                    684.0                0.902344               -0.309570   \n",
       "3                    458.0               -0.623047               -1.937500   \n",
       "4                    892.0               -0.650391                2.671875   \n",
       "..                     ...                     ...                     ...   \n",
       "99                   373.0                0.943359                2.492188   \n",
       "100                  536.0                0.609375                0.941406   \n",
       "101                  234.5                1.511719               -2.984375   \n",
       "102                  463.0               -2.125000                0.970703   \n",
       "103                 1048.0               -0.636719                0.521484   \n",
       "\n",
       "     SUEP_nconst_CL_track_down  SUEP_pt_avg_b_CL_track_down  \\\n",
       "0                        259.0                     1.594425   \n",
       "1                        212.0                     1.810058   \n",
       "2                        211.0                     1.880002   \n",
       "3                          NaN                          NaN   \n",
       "4                        245.0                     2.018462   \n",
       "..                         ...                          ...   \n",
       "99                       145.0                     1.691220   \n",
       "100                      226.0                     1.800882   \n",
       "101                      174.0                     1.906613   \n",
       "102                      200.0                     1.928334   \n",
       "103                      282.0                     1.814558   \n",
       "\n",
       "     SUEP_S1_CL_track_down  SUEP_pt_avg_CL_track_down  ...  \\\n",
       "0                 0.850099                   3.231760  ...   \n",
       "1                 0.824242                   3.262748  ...   \n",
       "2                 0.748618                   3.470199  ...   \n",
       "3                      NaN                        NaN  ...   \n",
       "4                 0.821302                   4.088744  ...   \n",
       "..                     ...                        ...  ...   \n",
       "99                0.727647                   2.938534  ...   \n",
       "100               0.719265                   2.947998  ...   \n",
       "101               0.608680                   3.520715  ...   \n",
       "102               0.746659                   2.967859  ...   \n",
       "103               0.843026                   3.945292  ...   \n",
       "\n",
       "     SUEP_genPhi_diff_CL  SUEP_genR_diff_CL  ISR_nconst_CL  ISR_pt_avg_b_CL  \\\n",
       "0              -0.008327           0.109132           49.0         1.550662   \n",
       "1               0.016692           0.032041           76.0         3.097220   \n",
       "2              -0.009688           0.204980           47.0         1.644151   \n",
       "3                    NaN                NaN            NaN              NaN   \n",
       "4               0.023848           0.044394           59.0         3.917717   \n",
       "..                   ...                ...            ...              ...   \n",
       "99              0.165434           0.498877          110.0         1.954893   \n",
       "100            -0.129294           0.284276           74.0         1.847132   \n",
       "101             0.608577           1.425564           98.0         1.554452   \n",
       "102            -0.020722           0.511621           25.0         3.576687   \n",
       "103            -0.028233           0.098220           42.0         3.390719   \n",
       "\n",
       "     ISR_S1_CL  ISR_pt_avg_CL   ISR_pt_CL  ISR_eta_CL  ISR_phi_CL  ISR_mass_CL  \n",
       "0     0.557968       4.791424  223.310389    1.389349    1.345037   124.658636  \n",
       "1     0.563378       5.314003  347.720250    1.006906    1.416104   378.136831  \n",
       "2     0.561985       6.911286  306.925249    1.750085   -2.715675   156.449336  \n",
       "3          NaN            NaN         NaN         NaN         NaN          NaN  \n",
       "4     0.236574      13.905087  789.884226    0.903963   -0.484280   265.960387  \n",
       "..         ...            ...         ...         ...         ...          ...  \n",
       "99    0.382104       3.394793  295.475207    1.294505    0.289459   306.145736  \n",
       "100   0.646112       4.401526  306.979750    0.564219   -2.094723   166.268645  \n",
       "101   0.385797       4.561793  399.429586    1.409481    0.745140   275.604634  \n",
       "102   0.374228      12.176270  299.864483   -0.081526   -2.167971   109.324359  \n",
       "103   0.435528      23.936376  999.137396    1.428867   -2.576114   175.123632  \n",
       "\n",
       "[104 rows x 76 columns]"
      ]
     },
     "execution_count": 5,
     "metadata": {},
     "output_type": "execute_result"
    }
   ],
   "source": [
    "df"
   ]
  },
  {
   "cell_type": "code",
   "execution_count": 60,
   "id": "419c645f-add6-43c6-9612-07e4c055ee93",
   "metadata": {},
   "outputs": [
    {
     "name": "stdout",
     "output_type": "stream",
     "text": [
      "2152 2152\n",
      "1314 1312\n"
     ]
    }
   ],
   "source": [
    "a = original_order['ht_JEC']\n",
    "b = new_order['ht_JEC']\n",
    "\n",
    "print(len(a), len(b))\n",
    "\n",
    "aa = a[a > 1200]\n",
    "bb = b[b > 1200]\n",
    "\n",
    "print(len(aa), len(bb))"
   ]
  },
  {
   "cell_type": "code",
   "execution_count": 5,
   "id": "7f91befb-2ae7-489d-8267-9ac949b3775c",
   "metadata": {},
   "outputs": [],
   "source": [
    "f = '/data/submit/cms/store/user/lavezzo/SUEP/feb23/JetHT+Run2018A-UL2018_MiniAODv2-v1+MINIAOD/merged/JetHT+Run2018A-UL2018_MiniAODv2-v1+MINIAOD_merged_0.hdf5'\n",
    "event_vars, m = h5load(f,'vars')\n",
    "f = '/data/submit/cms/store/user/lavezzo/SUEP/feb23/JetHT+Run2018A-UL2018_MiniAODv2-v1+MINIAOD/merged/JetHT+Run2018A-UL2018_MiniAODv2-v1+MINIAOD_merged_1.hdf5'\n",
    "event_vars_2, m = h5load(f,'vars')"
   ]
  },
  {
   "cell_type": "code",
   "execution_count": 6,
   "id": "b2b23036-c465-4dd2-8145-0dad87c8f986",
   "metadata": {},
   "outputs": [],
   "source": [
    "f = '/data/submit/cms/store/user/lavezzo/SUEP/inference7_SUEPtracks/JetHT+Run2018A-UL2018_MiniAODv2-v1+MINIAOD/merged/JetHT+Run2018A-UL2018_MiniAODv2-v1+MINIAOD_merged_0.hdf5'\n",
    "event_vars_3, m = h5load(f,'vars')\n",
    "f = '/data/submit/cms/store/user/lavezzo/SUEP/inference7_SUEPtracks/JetHT+Run2018A-UL2018_MiniAODv2-v1+MINIAOD/merged/JetHT+Run2018A-UL2018_MiniAODv2-v1+MINIAOD_merged_1.hdf5'\n",
    "event_vars_4, m = h5load(f,'vars')"
   ]
  },
  {
   "cell_type": "code",
   "execution_count": 7,
   "id": "3b607264-da52-43a4-97c4-b3653515e3da",
   "metadata": {},
   "outputs": [],
   "source": [
    "new = pd.concat([event_vars, event_vars_2])\n",
    "old = pd.concat([event_vars_3, event_vars_4])"
   ]
  },
  {
   "cell_type": "code",
   "execution_count": 8,
   "id": "3b3f685a-8c59-4044-a8ee-6017438a6eaa",
   "metadata": {},
   "outputs": [],
   "source": [
    "new = new[new['ht_JEC']>1200]\n",
    "old = old[old['ht_JEC']>1200]"
   ]
  },
  {
   "cell_type": "code",
   "execution_count": 9,
   "id": "19d329e7-3b0f-4ef9-9c05-1279a12b5f21",
   "metadata": {},
   "outputs": [
    {
     "name": "stdout",
     "output_type": "stream",
     "text": [
      "(5191549, 43)\n",
      "(5294924, 38)\n"
     ]
    }
   ],
   "source": [
    "print(new.shape)\n",
    "print(old.shape)"
   ]
  },
  {
   "cell_type": "code",
   "execution_count": 18,
   "id": "01970c2b-c683-41b0-8ac8-e6dae175f6e0",
   "metadata": {},
   "outputs": [],
   "source": [
    "import plot_utils\n",
    "\n",
    "# ran these over old data\n",
    "# original = old make_plots\n",
    "# new = new make_plots\n",
    "p0 = plot_utils.openpkl('/work/submit/lavezzo/SUEP/outputs/JetHT+Run2018A-UL2018_MiniAODv2-v1+MINIAOD_sys_studies_v3.pkl')\n",
    "p1 = plot_utils.openpkl('/work/submit/lavezzo/SUEP/outputs/JetHT+Run2018A-UL2018_MiniAODv2-v1+MINIAOD_original.pkl')\n",
    "p5 = plot_utils.openpkl('/work/submit/lavezzo/SUEP/outputs/JetHT+Run2018A-UL2018_MiniAODv2-v1+MINIAOD_new.pkl')\n",
    "p2 = plot_utils.openpkl('/work/submit/lavezzo/SUEP/outputs/JetHT+Run2018A-UL2018_MiniAODv2-v1+MINIAOD_original_JEC.pkl')\n",
    "p6 = plot_utils.openpkl('/work/submit/lavezzo/SUEP/outputs/JetHT+Run2018A-UL2018_MiniAODv2-v1+MINIAOD_new_JEC.pkl')\n",
    "p3 = plot_utils.openpkl('/work/submit/lavezzo/SUEP/outputs/JetHT+Run2018A-UL2018_MiniAODv2-v1+MINIAOD_original_JEC_newRegions.pkl')\n",
    "\n",
    "# this is running over new data\n",
    "# the latter has the old regions, ht > 1200\n",
    "p4 = plot_utils.openpkl('/work/submit/lavezzo/SUEP/outputs/JetHT+Run2018A-UL2018_MiniAODv2-v1+MINIAOD_feb23_v2.pkl')\n",
    "p7 = plot_utils.openpkl('/work/submit/lavezzo/SUEP/outputs/JetHT+Run2018A-UL2018_MiniAODv2-v1+MINIAOD_new_newNtuples.pkl')"
   ]
  },
  {
   "cell_type": "code",
   "execution_count": 77,
   "id": "7c3620a0-3cb5-4456-90fa-eaab0184d37d",
   "metadata": {},
   "outputs": [],
   "source": [
    "# ran these over old data\n",
    "# original = old make_plots\n",
    "# new = new make_plots\n",
    "sample = 'QCD_HT1500to2000_TuneCP5_PSWeights_13TeV-madgraph-pythia8+RunIISummer20UL18MiniAODv2-106X_upgrade2018_realistic_v16_L1v1-v1+MINIAODSIM'\n",
    "q0 = plot_utils.openpkl('/work/submit/lavezzo/SUEP/outputs/'+sample+'_sys_studies_v3.pkl')\n",
    "#p1 = plot_utils.openpkl('/work/submit/lavezzo/SUEP/outputs/JetHT+Run2018A-UL2018_MiniAODv2-v1+MINIAOD_original.pkl')\n",
    "#p5 = plot_utils.openpkl('/work/submit/lavezzo/SUEP/outputs/JetHT+Run2018A-UL2018_MiniAODv2-v1+MINIAOD_new.pkl')\n",
    "#p2 = plot_utils.openpkl('/work/submit/lavezzo/SUEP/outputs/JetHT+Run2018A-UL2018_MiniAODv2-v1+MINIAOD_original_JEC.pkl')\n",
    "#p6 = plot_utils.openpkl('/work/submit/lavezzo/SUEP/outputs/JetHT+Run2018A-UL2018_MiniAODv2-v1+MINIAOD_new_JEC.pkl')\n",
    "#p3 = plot_utils.openpkl('/work/submit/lavezzo/SUEP/outputs/JetHT+Run2018A-UL2018_MiniAODv2-v1+MINIAOD_original_JEC_newRegions.pkl')\n",
    "\n",
    "# this is running over new data\n",
    "# the latter has the old regions, ht > 1200\n",
    "q4 = plot_utils.openpkl('/work/submit/lavezzo/SUEP/outputs/'+sample+'_feb23_v2.pkl')\n",
    "#p7 = plot_utils.openpkl('/work/submit/lavezzo/SUEP/outputs/JetHT+Run2018A-UL2018_MiniAODv2-v1+MINIAOD_new_newNtuples.pkl')"
   ]
  },
  {
   "cell_type": "code",
   "execution_count": 80,
   "id": "5fcc9ec0-237a-4e00-ab1f-91f08cfaca74",
   "metadata": {},
   "outputs": [
    {
     "name": "stdout",
     "output_type": "stream",
     "text": [
      "1.0000000000000906\n"
     ]
    },
    {
     "data": {
      "text/plain": [
       "(0.5, 1.5)"
      ]
     },
     "execution_count": 80,
     "metadata": {},
     "output_type": "execute_result"
    },
    {
     "data": {
      "image/png": "[encoded data removed]",
      "text/plain": [
       "<Figure size 1332x756 with 2 Axes>"
      ]
     },
     "metadata": {
      "needs_background": "light"
     },
     "output_type": "display_data"
    }
   ],
   "source": [
    "h1 = q4['ht_Cluster70']\n",
    "h2 = q4['ht_JEC_Cluster70']\n",
    "\n",
    "print(h1.sum().value/h2.sum().value)\n",
    "\n",
    "fig, axs = plot_utils.plot_ratio([h1,h2], labels=['HT','HT JEC'])\n",
    "fig.set_size_inches(18.5, 10.5)\n",
    "axs[1].set_ylim(0.5, 1.5)"
   ]
  },
  {
   "cell_type": "code",
   "execution_count": 16,
   "id": "a13db0d9",
   "metadata": {},
   "outputs": [
    {
     "data": {
      "text/plain": [
       "Text(0.5, 0, '# Leptons')"
      ]
     },
     "execution_count": 16,
     "metadata": {},
     "output_type": "execute_result"
    },
    {
     "data": {
      "image/png": "[encoded data removed]",
      "text/plain": [
       "<Figure size 432x288 with 1 Axes>"
      ]
     },
     "metadata": {
      "needs_background": "light"
     },
     "output_type": "display_data"
    }
   ],
   "source": [
    "x = event_vars['n_sel_leps']\n",
    "m = event_vars['n_sel_muons']\n",
    "e = event_vars['n_sel_electrons']\n",
    "#_= plt.hist(x+1, bins=np.linspace(0,50,200), label='total')\n",
    "_= plt.hist(m, bins=np.linspace(0,50,200), label='muons')\n",
    "_= plt.hist(e, bins=np.linspace(0,50,200), label='electrons')\n",
    "plt.yscale('log')\n",
    "plt.legend()\n",
    "plt.xlabel(\"# Leptons\")"
   ]
  },
  {
   "cell_type": "code",
   "execution_count": 35,
   "id": "21bb4aa6",
   "metadata": {},
   "outputs": [
    {
     "name": "stdout",
     "output_type": "stream",
     "text": [
      "64909205.15625\n",
      "64774388.28125\n"
     ]
    },
    {
     "data": {
      "image/png": "[encoded data removed]",
      "text/plain": [
       "<Figure size 432x288 with 1 Axes>"
      ]
     },
     "metadata": {
      "needs_background": "light"
     },
     "output_type": "display_data"
    }
   ],
   "source": [
    "plt.hist(htloose, bins=np.linspace(0,5000,100),  histtype='step', label='loose')\n",
    "plt.hist(httight, bins=np.linspace(0,5000,100), histtype='step', label='tight')\n",
    "plt.yscale('log')\n",
    "plt.legend()\n",
    "print(np.sum(htloose))\n",
    "print(np.sum(httight))"
   ]
  },
  {
   "cell_type": "code",
   "execution_count": null,
   "id": "0733b1fd",
   "metadata": {},
   "outputs": [],
   "source": []
  }
 ],
 "metadata": {
  "kernelspec": {
   "display_name": "SUEP",
   "language": "python",
   "name": "python3"
  },
  "language_info": {
   "codemirror_mode": {
    "name": "ipython",
    "version": 3
   },
   "file_extension": ".py",
   "mimetype": "text/x-python",
   "name": "python",
   "nbconvert_exporter": "python",
   "pygments_lexer": "ipython3",
   "version": "3.9.15"
  }
 },
 "nbformat": 4,
 "nbformat_minor": 5
}
