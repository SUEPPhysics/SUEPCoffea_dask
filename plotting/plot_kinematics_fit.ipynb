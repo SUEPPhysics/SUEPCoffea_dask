{
 "cells": [
  {
   "cell_type": "markdown",
   "id": "0ef09744-0338-432a-a1c0-7dba1608e4d7",
   "metadata": {},
   "source": [
    "# Plotting Notebook\n",
    "Please use this is a guide to the type plots that you can create, as examples of the `hist`, `mplhep`, and other packages, as well as the use of the various functions that we have written in `plot_utils.py`. <br>\n",
    "Use the the Table of Contents in Jupyter to view the different sections of the notebook to help navigating it."
   ]
  },
  {
   "cell_type": "code",
   "execution_count": 1,
   "id": "388dcff4",
   "metadata": {},
   "outputs": [],
   "source": [
    "%load_ext autoreload"
   ]
  },
  {
   "cell_type": "code",
   "execution_count": 2,
   "id": "46fc6b74",
   "metadata": {},
   "outputs": [],
   "source": [
    "%autoreload 1"
   ]
  },
  {
   "cell_type": "code",
   "execution_count": 3,
   "id": "21dc72ed-d0e7-4f05-a8b3-150722a8f2fe",
   "metadata": {},
   "outputs": [],
   "source": [
    "import os, sys, glob, random\n",
    "import pickle\n",
    "import math\n",
    "import multiprocessing\n",
    "import itertools\n",
    "import warnings\n",
    "import json\n",
    "import time\n",
    "import numpy as np\n",
    "from typing import Dict, List\n",
    "from rich import print\n",
    "from rich.pretty import pprint\n",
    "from rich.console import Console\n",
    "from rich.table import Table\n",
    "from rich.progress import Progress, track\n",
    "import matplotlib.pyplot as plt\n",
    "import matplotlib.gridspec as gridspec\n",
    "import matplotlib as mpl\n",
    "from cycler import cycler\n",
    "import hist\n",
    "from hist import Hist\n",
    "import mplhep as hep\n",
    "from tabulate import tabulate\n",
    "import scipy\n",
    "import uproot\n",
    "import ROOT\n",
    "from iminuit import Minuit\n",
    "from iminuit.cost import LeastSquares\n",
    "from jacobi import propagate\n",
    "%aimport plot_utils\n",
    "%aimport plot_utils_extras\n",
    "%aimport fill_utils\n",
    "%aimport generic_utils"
   ]
  },
  {
   "cell_type": "code",
   "execution_count": 4,
   "id": "c7a8df40",
   "metadata": {},
   "outputs": [],
   "source": [
    "warnings.filterwarnings('ignore')\n",
    "mpl.rcParams.update({'figure.max_open_warning': 0})\n",
    "mpl.rcParams['figure.facecolor'] = 'white'\n",
    "hep.style.use(\"CMS\")\n",
    "np.set_printoptions(suppress=True)"
   ]
  },
  {
   "cell_type": "code",
   "execution_count": 5,
   "id": "63ffd428",
   "metadata": {},
   "outputs": [
    {
     "data": {
      "image/png": "[encoded data removed]",
      "text/plain": [
       "<Figure size 432x288 with 1 Axes>"
      ]
     },
     "metadata": {
      "needs_background": "light"
     },
     "output_type": "display_data"
    }
   ],
   "source": [
    "plt.plot()\n",
    "hep.style.use(hep.style.CMS)"
   ]
  },
  {
   "cell_type": "code",
   "execution_count": 6,
   "id": "d7782062",
   "metadata": {},
   "outputs": [
    {
     "data": {
      "text/html": [
       "<pre style=\"white-space:pre;overflow-x:auto;line-height:normal;font-family:Menlo,'DejaVu Sans Mono',consolas,'Courier New',monospace\">The following output directories are available:\n",
       "</pre>\n"
      ],
      "text/plain": [
       "The following output directories are available:\n"
      ]
     },
     "metadata": {},
     "output_type": "display_data"
    },
    {
     "name": "stdout",
     "output_type": "stream",
     "text": [
      "CR_cb_34mu_output_histograms\r\n",
      "CR_cb_combine_output_histograms\r\n",
      "CR_cb_output_histograms\r\n",
      "CR_cb_postDYstudy_output_histograms\r\n",
      "CR_light_postDYstudy_output_histograms\r\n",
      "CR_prompt_34mu_leading_output_histograms\r\n",
      "CR_prompt_34mu_output_histograms\r\n",
      "CR_prompt_combine_output_histograms\r\n",
      "CR_prompt_dimuon_output_histograms\r\n",
      "CR_prompt_dystudy_output_histograms\r\n",
      "CR_prompt_leading_output_histograms\r\n",
      "CR_prompt_output_histograms\r\n",
      "CR_prompt_postDYstudy_output_histograms\r\n",
      "DYstudy_2_output_histograms\r\n",
      "DYstudy_3_output_histograms\r\n",
      "DYstudy_4_output_histograms\r\n",
      "DYstudy_5_output_histograms\r\n",
      "DYstudy_output_histograms\r\n",
      "DYstudy_trigger_match_double_output_histograms\r\n",
      "DYstudy_trigger_match_triple_output_histograms\r\n",
      "DYstudy_trigger_one_path_output_histograms\r\n",
      "fake_rate_output_histograms\r\n",
      "kinematics_output_histograms\r\n",
      "nbjet_comparison_output_histograms\r\n",
      "SR_combine_new_trigger_output_histograms\r\n",
      "SR_combine_old_trigger_output_histograms\r\n",
      "SR_combine_output_histograms\r\n",
      "SR_extrapolation_new_from_mini_output_histograms\r\n",
      "SR_extrapolation_new_output_histograms\r\n",
      "SR_extrapolation_output_histograms\r\n",
      "SR_postDYstudy_output_histograms\r\n",
      "temp_output_histograms\r\n"
     ]
    }
   ],
   "source": [
    "print(\"The following output directories are available:\")\n",
    "!ls | grep output_histograms"
   ]
  },
  {
   "cell_type": "markdown",
   "id": "5f375891",
   "metadata": {},
   "source": [
    "## Load plots"
   ]
  },
  {
   "cell_type": "code",
   "execution_count": 7,
   "id": "7158b1f3",
   "metadata": {},
   "outputs": [],
   "source": [
    "plots = generic_utils.loader(tag=\"kinematics\")"
   ]
  },
  {
   "cell_type": "markdown",
   "id": "3bccb5e4-d8f4-49a7-b1a4-ab8b8471b9ee",
   "metadata": {},
   "source": [
    "These are all the samples loaded."
   ]
  },
  {
   "cell_type": "code",
   "execution_count": 8,
   "id": "def57046-331c-4c9a-9bf2-093d4ddd86d9",
   "metadata": {
    "scrolled": true
   },
   "outputs": [
    {
     "data": {
      "text/html": [
       "<pre style=\"white-space:pre;overflow-x:auto;line-height:normal;font-family:Menlo,'DejaVu Sans Mono',consolas,'Courier New',monospace\"><span style=\"font-weight: bold\">[</span>\n",
       "<span style=\"color: #7fbf7f; text-decoration-color: #7fbf7f\">│   </span><span style=\"color: #008000; text-decoration-color: #008000\">'SUEP_mS125_mPhi1p4_T0p35_modehadronic_2018'</span>,\n",
       "<span style=\"color: #7fbf7f; text-decoration-color: #7fbf7f\">│   </span><span style=\"color: #008000; text-decoration-color: #008000\">'SUEP_mS125_mPhi2_T2_modehadronic_2018'</span>,\n",
       "<span style=\"color: #7fbf7f; text-decoration-color: #7fbf7f\">│   </span><span style=\"color: #008000; text-decoration-color: #008000\">'SUEP_mS125_mPhi8_T32_modehadronic_2018'</span>,\n",
       "<span style=\"color: #7fbf7f; text-decoration-color: #7fbf7f\">│   </span><span style=\"color: #008000; text-decoration-color: #008000\">'QCD_Pt-1000_MuEnrichedPt5_TuneCP5_13TeV-pythia8_histograms_normalized_2018'</span>,\n",
       "<span style=\"color: #7fbf7f; text-decoration-color: #7fbf7f\">│   </span><span style=\"color: #008000; text-decoration-color: #008000\">'QCD_Pt_MuEnriched_2018'</span>,\n",
       "<span style=\"color: #7fbf7f; text-decoration-color: #7fbf7f\">│   </span><span style=\"color: #008000; text-decoration-color: #008000\">'QCD_Pt-120To170_MuEnrichedPt5_TuneCP5_13TeV-pythia8_histograms_normalized_2018'</span>,\n",
       "<span style=\"color: #7fbf7f; text-decoration-color: #7fbf7f\">│   </span><span style=\"color: #008000; text-decoration-color: #008000\">'QCD_Pt-15To20_MuEnrichedPt5_TuneCP5_13TeV-pythia8_histograms_normalized_2018'</span>,\n",
       "<span style=\"color: #7fbf7f; text-decoration-color: #7fbf7f\">│   </span><span style=\"color: #008000; text-decoration-color: #008000\">'QCD_Pt-170To300_MuEnrichedPt5_TuneCP5_13TeV-pythia8_histograms_normalized_2018'</span>,\n",
       "<span style=\"color: #7fbf7f; text-decoration-color: #7fbf7f\">│   </span><span style=\"color: #008000; text-decoration-color: #008000\">'QCD_Pt-20To30_MuEnrichedPt5_TuneCP5_13TeV-pythia8_histograms_normalized_2018'</span>,\n",
       "<span style=\"color: #7fbf7f; text-decoration-color: #7fbf7f\">│   </span><span style=\"color: #008000; text-decoration-color: #008000\">'QCD_Pt-300To470_MuEnrichedPt5_TuneCP5_13TeV-pythia8_histograms_normalized_2018'</span>,\n",
       "<span style=\"color: #7fbf7f; text-decoration-color: #7fbf7f\">│   </span><span style=\"color: #008000; text-decoration-color: #008000\">'QCD_Pt-30To50_MuEnrichedPt5_TuneCP5_13TeV-pythia8_histograms_normalized_2018'</span>,\n",
       "<span style=\"color: #7fbf7f; text-decoration-color: #7fbf7f\">│   </span><span style=\"color: #008000; text-decoration-color: #008000\">'QCD_Pt-470To600_MuEnrichedPt5_TuneCP5_13TeV-pythia8_histograms_normalized_2018'</span>,\n",
       "<span style=\"color: #7fbf7f; text-decoration-color: #7fbf7f\">│   </span><span style=\"color: #008000; text-decoration-color: #008000\">'QCD_Pt-50To80_MuEnrichedPt5_TuneCP5_13TeV-pythia8_histograms_normalized_2018'</span>,\n",
       "<span style=\"color: #7fbf7f; text-decoration-color: #7fbf7f\">│   </span><span style=\"color: #008000; text-decoration-color: #008000\">'QCD_Pt-600To800_MuEnrichedPt5_TuneCP5_13TeV-pythia8_histograms_normalized_2018'</span>,\n",
       "<span style=\"color: #7fbf7f; text-decoration-color: #7fbf7f\">│   </span><span style=\"color: #008000; text-decoration-color: #008000\">'QCD_Pt-800To1000_MuEnrichedPt5_TuneCP5_13TeV-pythia8_histograms_normalized_2018'</span>,\n",
       "<span style=\"color: #7fbf7f; text-decoration-color: #7fbf7f\">│   </span><span style=\"color: #008000; text-decoration-color: #008000\">'QCD_Pt-80To120_MuEnrichedPt5_TuneCP5_13TeV-pythia8_histograms_normalized_2018'</span>,\n",
       "<span style=\"color: #7fbf7f; text-decoration-color: #7fbf7f\">│   </span><span style=\"color: #008000; text-decoration-color: #008000\">'QCD_Pt-1000_MuEnrichedPt5_TuneCP5_13TeV-pythia8_histograms_2018'</span>,\n",
       "<span style=\"color: #7fbf7f; text-decoration-color: #7fbf7f\">│   </span><span style=\"color: #008000; text-decoration-color: #008000\">'QCD_Pt-120To170_MuEnrichedPt5_TuneCP5_13TeV-pythia8_histograms_2018'</span>,\n",
       "<span style=\"color: #7fbf7f; text-decoration-color: #7fbf7f\">│   </span><span style=\"color: #008000; text-decoration-color: #008000\">'QCD_Pt-15To20_MuEnrichedPt5_TuneCP5_13TeV-pythia8_histograms_2018'</span>,\n",
       "<span style=\"color: #7fbf7f; text-decoration-color: #7fbf7f\">│   </span><span style=\"color: #008000; text-decoration-color: #008000\">'QCD_Pt-170To300_MuEnrichedPt5_TuneCP5_13TeV-pythia8_histograms_2018'</span>,\n",
       "<span style=\"color: #7fbf7f; text-decoration-color: #7fbf7f\">│   </span><span style=\"color: #008000; text-decoration-color: #008000\">'QCD_Pt-20To30_MuEnrichedPt5_TuneCP5_13TeV-pythia8_histograms_2018'</span>,\n",
       "<span style=\"color: #7fbf7f; text-decoration-color: #7fbf7f\">│   </span><span style=\"color: #008000; text-decoration-color: #008000\">'QCD_Pt-300To470_MuEnrichedPt5_TuneCP5_13TeV-pythia8_histograms_2018'</span>,\n",
       "<span style=\"color: #7fbf7f; text-decoration-color: #7fbf7f\">│   </span><span style=\"color: #008000; text-decoration-color: #008000\">'QCD_Pt-30To50_MuEnrichedPt5_TuneCP5_13TeV-pythia8_histograms_2018'</span>,\n",
       "<span style=\"color: #7fbf7f; text-decoration-color: #7fbf7f\">│   </span><span style=\"color: #008000; text-decoration-color: #008000\">'QCD_Pt-470To600_MuEnrichedPt5_TuneCP5_13TeV-pythia8_histograms_2018'</span>,\n",
       "<span style=\"color: #7fbf7f; text-decoration-color: #7fbf7f\">│   </span><span style=\"color: #008000; text-decoration-color: #008000\">'QCD_Pt-50To80_MuEnrichedPt5_TuneCP5_13TeV-pythia8_histograms_2018'</span>,\n",
       "<span style=\"color: #7fbf7f; text-decoration-color: #7fbf7f\">│   </span><span style=\"color: #008000; text-decoration-color: #008000\">'QCD_Pt-600To800_MuEnrichedPt5_TuneCP5_13TeV-pythia8_histograms_2018'</span>,\n",
       "<span style=\"color: #7fbf7f; text-decoration-color: #7fbf7f\">│   </span><span style=\"color: #008000; text-decoration-color: #008000\">'QCD_Pt-800To1000_MuEnrichedPt5_TuneCP5_13TeV-pythia8_histograms_2018'</span>,\n",
       "<span style=\"color: #7fbf7f; text-decoration-color: #7fbf7f\">│   </span><span style=\"color: #008000; text-decoration-color: #008000\">'QCD_Pt-80To120_MuEnrichedPt5_TuneCP5_13TeV-pythia8_histograms_2018'</span>\n",
       "<span style=\"font-weight: bold\">]</span>\n",
       "</pre>\n"
      ],
      "text/plain": [
       "\u001b[1m[\u001b[0m\n",
       "\u001b[2;32m│   \u001b[0m\u001b[32m'SUEP_mS125_mPhi1p4_T0p35_modehadronic_2018'\u001b[0m,\n",
       "\u001b[2;32m│   \u001b[0m\u001b[32m'SUEP_mS125_mPhi2_T2_modehadronic_2018'\u001b[0m,\n",
       "\u001b[2;32m│   \u001b[0m\u001b[32m'SUEP_mS125_mPhi8_T32_modehadronic_2018'\u001b[0m,\n",
       "\u001b[2;32m│   \u001b[0m\u001b[32m'QCD_Pt-1000_MuEnrichedPt5_TuneCP5_13TeV-pythia8_histograms_normalized_2018'\u001b[0m,\n",
       "\u001b[2;32m│   \u001b[0m\u001b[32m'QCD_Pt_MuEnriched_2018'\u001b[0m,\n",
       "\u001b[2;32m│   \u001b[0m\u001b[32m'QCD_Pt-120To170_MuEnrichedPt5_TuneCP5_13TeV-pythia8_histograms_normalized_2018'\u001b[0m,\n",
       "\u001b[2;32m│   \u001b[0m\u001b[32m'QCD_Pt-15To20_MuEnrichedPt5_TuneCP5_13TeV-pythia8_histograms_normalized_2018'\u001b[0m,\n",
       "\u001b[2;32m│   \u001b[0m\u001b[32m'QCD_Pt-170To300_MuEnrichedPt5_TuneCP5_13TeV-pythia8_histograms_normalized_2018'\u001b[0m,\n",
       "\u001b[2;32m│   \u001b[0m\u001b[32m'QCD_Pt-20To30_MuEnrichedPt5_TuneCP5_13TeV-pythia8_histograms_normalized_2018'\u001b[0m,\n",
       "\u001b[2;32m│   \u001b[0m\u001b[32m'QCD_Pt-300To470_MuEnrichedPt5_TuneCP5_13TeV-pythia8_histograms_normalized_2018'\u001b[0m,\n",
       "\u001b[2;32m│   \u001b[0m\u001b[32m'QCD_Pt-30To50_MuEnrichedPt5_TuneCP5_13TeV-pythia8_histograms_normalized_2018'\u001b[0m,\n",
       "\u001b[2;32m│   \u001b[0m\u001b[32m'QCD_Pt-470To600_MuEnrichedPt5_TuneCP5_13TeV-pythia8_histograms_normalized_2018'\u001b[0m,\n",
       "\u001b[2;32m│   \u001b[0m\u001b[32m'QCD_Pt-50To80_MuEnrichedPt5_TuneCP5_13TeV-pythia8_histograms_normalized_2018'\u001b[0m,\n",
       "\u001b[2;32m│   \u001b[0m\u001b[32m'QCD_Pt-600To800_MuEnrichedPt5_TuneCP5_13TeV-pythia8_histograms_normalized_2018'\u001b[0m,\n",
       "\u001b[2;32m│   \u001b[0m\u001b[32m'QCD_Pt-800To1000_MuEnrichedPt5_TuneCP5_13TeV-pythia8_histograms_normalized_2018'\u001b[0m,\n",
       "\u001b[2;32m│   \u001b[0m\u001b[32m'QCD_Pt-80To120_MuEnrichedPt5_TuneCP5_13TeV-pythia8_histograms_normalized_2018'\u001b[0m,\n",
       "\u001b[2;32m│   \u001b[0m\u001b[32m'QCD_Pt-1000_MuEnrichedPt5_TuneCP5_13TeV-pythia8_histograms_2018'\u001b[0m,\n",
       "\u001b[2;32m│   \u001b[0m\u001b[32m'QCD_Pt-120To170_MuEnrichedPt5_TuneCP5_13TeV-pythia8_histograms_2018'\u001b[0m,\n",
       "\u001b[2;32m│   \u001b[0m\u001b[32m'QCD_Pt-15To20_MuEnrichedPt5_TuneCP5_13TeV-pythia8_histograms_2018'\u001b[0m,\n",
       "\u001b[2;32m│   \u001b[0m\u001b[32m'QCD_Pt-170To300_MuEnrichedPt5_TuneCP5_13TeV-pythia8_histograms_2018'\u001b[0m,\n",
       "\u001b[2;32m│   \u001b[0m\u001b[32m'QCD_Pt-20To30_MuEnrichedPt5_TuneCP5_13TeV-pythia8_histograms_2018'\u001b[0m,\n",
       "\u001b[2;32m│   \u001b[0m\u001b[32m'QCD_Pt-300To470_MuEnrichedPt5_TuneCP5_13TeV-pythia8_histograms_2018'\u001b[0m,\n",
       "\u001b[2;32m│   \u001b[0m\u001b[32m'QCD_Pt-30To50_MuEnrichedPt5_TuneCP5_13TeV-pythia8_histograms_2018'\u001b[0m,\n",
       "\u001b[2;32m│   \u001b[0m\u001b[32m'QCD_Pt-470To600_MuEnrichedPt5_TuneCP5_13TeV-pythia8_histograms_2018'\u001b[0m,\n",
       "\u001b[2;32m│   \u001b[0m\u001b[32m'QCD_Pt-50To80_MuEnrichedPt5_TuneCP5_13TeV-pythia8_histograms_2018'\u001b[0m,\n",
       "\u001b[2;32m│   \u001b[0m\u001b[32m'QCD_Pt-600To800_MuEnrichedPt5_TuneCP5_13TeV-pythia8_histograms_2018'\u001b[0m,\n",
       "\u001b[2;32m│   \u001b[0m\u001b[32m'QCD_Pt-800To1000_MuEnrichedPt5_TuneCP5_13TeV-pythia8_histograms_2018'\u001b[0m,\n",
       "\u001b[2;32m│   \u001b[0m\u001b[32m'QCD_Pt-80To120_MuEnrichedPt5_TuneCP5_13TeV-pythia8_histograms_2018'\u001b[0m\n",
       "\u001b[1m]\u001b[0m\n"
      ]
     },
     "metadata": {},
     "output_type": "display_data"
    }
   ],
   "source": [
    "keys = list(plots.keys())\n",
    "pprint(keys)"
   ]
  },
  {
   "cell_type": "code",
   "execution_count": 9,
   "id": "8a4cf693",
   "metadata": {
    "scrolled": true
   },
   "outputs": [
    {
     "data": {
      "text/html": [
       "<pre style=\"white-space:pre;overflow-x:auto;line-height:normal;font-family:Menlo,'DejaVu Sans Mono',consolas,'Courier New',monospace\"><span style=\"color: #008000; text-decoration-color: #008000\">'nMuon'</span>\n",
       "</pre>\n"
      ],
      "text/plain": [
       "\u001b[32m'nMuon'\u001b[0m\n"
      ]
     },
     "metadata": {},
     "output_type": "display_data"
    },
    {
     "data": {
      "text/html": [
       "<pre style=\"white-space:pre;overflow-x:auto;line-height:normal;font-family:Menlo,'DejaVu Sans Mono',consolas,'Courier New',monospace\"><span style=\"color: #008000; text-decoration-color: #008000\">'b_vetoed_vs_iso_cut_vs_nMuon_vs_nDarkPho_vs_nDarkMeson'</span>\n",
       "</pre>\n"
      ],
      "text/plain": [
       "\u001b[32m'b_vetoed_vs_iso_cut_vs_nMuon_vs_nDarkPho_vs_nDarkMeson'\u001b[0m\n"
      ]
     },
     "metadata": {},
     "output_type": "display_data"
    },
    {
     "data": {
      "text/html": [
       "<pre style=\"white-space:pre;overflow-x:auto;line-height:normal;font-family:Menlo,'DejaVu Sans Mono',consolas,'Courier New',monospace\"><span style=\"color: #008000; text-decoration-color: #008000\">'nJet_vs_nMuon'</span>\n",
       "</pre>\n"
      ],
      "text/plain": [
       "\u001b[32m'nJet_vs_nMuon'\u001b[0m\n"
      ]
     },
     "metadata": {},
     "output_type": "display_data"
    },
    {
     "data": {
      "text/html": [
       "<pre style=\"white-space:pre;overflow-x:auto;line-height:normal;font-family:Menlo,'DejaVu Sans Mono',consolas,'Courier New',monospace\"><span style=\"color: #008000; text-decoration-color: #008000\">'nFatJet_vs_nMuon'</span>\n",
       "</pre>\n"
      ],
      "text/plain": [
       "\u001b[32m'nFatJet_vs_nMuon'\u001b[0m\n"
      ]
     },
     "metadata": {},
     "output_type": "display_data"
    },
    {
     "data": {
      "text/html": [
       "<pre style=\"white-space:pre;overflow-x:auto;line-height:normal;font-family:Menlo,'DejaVu Sans Mono',consolas,'Courier New',monospace\"><span style=\"color: #008000; text-decoration-color: #008000\">'ht_vs_nMuon'</span>\n",
       "</pre>\n"
      ],
      "text/plain": [
       "\u001b[32m'ht_vs_nMuon'\u001b[0m\n"
      ]
     },
     "metadata": {},
     "output_type": "display_data"
    },
    {
     "data": {
      "text/html": [
       "<pre style=\"white-space:pre;overflow-x:auto;line-height:normal;font-family:Menlo,'DejaVu Sans Mono',consolas,'Courier New',monospace\"><span style=\"color: #008000; text-decoration-color: #008000\">'tot_muon_charge_vs_nMuon'</span>\n",
       "</pre>\n"
      ],
      "text/plain": [
       "\u001b[32m'tot_muon_charge_vs_nMuon'\u001b[0m\n"
      ]
     },
     "metadata": {},
     "output_type": "display_data"
    }
   ],
   "source": [
    "for key in plots['SUEP_mS125_mPhi1p4_T0p35_modehadronic_2018'].keys():\n",
    "    pprint(f\"{key}\")"
   ]
  },
  {
   "cell_type": "code",
   "execution_count": 10,
   "id": "c0b0dc22",
   "metadata": {},
   "outputs": [],
   "source": [
    "def nMuon_func(x, a, b):\n",
    "    return a * 10 ** (- b * x)\n",
    "\n",
    "def binomial(n, k, p):\n",
    "    q = 1 - p\n",
    "    coeff = math.factorial(n) / (math.factorial(k) * math.factorial(n - k))\n",
    "    return coeff * (p**k) * (q**(n-k))\n",
    "\n",
    "def reweight_hist_binomially(h_i, a, p):\n",
    "    h_f = h_i.copy().reset()\n",
    "    edges = h_i.axes[0].edges.astype(int)\n",
    "    for i in range(edges[0], edges[-1]):\n",
    "        tot_val, tot_var = a * h0[i*1j].value, a * h0[i*1j].variance\n",
    "        for j in range(edges[0], i+1):\n",
    "            weight = binomial(i, j, p)\n",
    "            h_f[j*1j] += hist.accumulators.WeightedSum(weight * tot_val, weight * tot_var)\n",
    "    return h_f\n",
    "\n",
    "def reweight_hist_binomially_for_fit(data_x, a, p):\n",
    "    y_out = np.zeros_like(data_y0)\n",
    "    for i in range(len(data_x)):\n",
    "        x_i = data_x[i]\n",
    "        tot_val = a * data_y0[i]\n",
    "        for j in range(0, i+1):\n",
    "            x_j = data_x[j]\n",
    "            weight = binomial(int(x_i), int(x_j), p)\n",
    "            y_out[j] += weight * tot_val\n",
    "    return y_out\n",
    "\n",
    "def qcd_estimate_plot(iso_cut=15, nMuon_cut=0):\n",
    "    suffix = \"MuEnrichedPt5_TuneCP5_13TeV-pythia8_histograms_normalized_2018\"\n",
    "    qcd_bins = [\n",
    "        f'QCD_Pt-15To20_{suffix}',\n",
    "        f'QCD_Pt-20To30_{suffix}',\n",
    "        f'QCD_Pt-30To50_{suffix}',\n",
    "        f'QCD_Pt-50To80_{suffix}',\n",
    "        f'QCD_Pt-80To120_{suffix}',\n",
    "        f'QCD_Pt-120To170_{suffix}',\n",
    "        f'QCD_Pt-170To300_{suffix}',\n",
    "        f'QCD_Pt-300To470_{suffix}',\n",
    "        f'QCD_Pt-470To600_{suffix}',\n",
    "        f'QCD_Pt-600To800_{suffix}',\n",
    "        f'QCD_Pt-800To1000_{suffix}',\n",
    "        f'QCD_Pt-1000_{suffix}',\n",
    "    ]\n",
    "    h_name = 'b_vetoed_vs_iso_cut_vs_nMuon_vs_nDarkPho_vs_nDarkMeson'\n",
    "    a_values_fitted = []\n",
    "    p_values_fitted = []\n",
    "    for qcd_bin in qcd_bins:\n",
    "        h0 = plots[qcd_bin][h_name][False, 99.1j, :, ::sum, ::sum]\n",
    "        h1 = plots[qcd_bin][h_name][False, iso_cut*1.1j, :, ::sum, ::sum]\n",
    "        \n",
    "        # Power law fit for hist without iso cut\n",
    "        data_x = h0.axes[0].edges[:-1]\n",
    "        data_y = h0.values()\n",
    "        data_yerr = np.sqrt(h0.variances())\n",
    "        not_zero = (data_yerr > 0) & (data_y > 0)\n",
    "        data_x = data_x[not_zero]\n",
    "        data_y = data_y[not_zero]\n",
    "        data_yerr = data_yerr[not_zero]\n",
    "        least_squares = LeastSquares(data_x, data_y, data_yerr, nMuon_func)\n",
    "        m = Minuit(least_squares, a=1e15, b=1.5)\n",
    "        m.migrad()\n",
    "        m.hesse()\n",
    "        h0_fit = h0.copy().reset()\n",
    "        x_inference = h0_fit.axes[0].edges[:-1]\n",
    "        fit_values = nMuon_func(x_inference, m.values[\"a\"], m.values[\"b\"])\n",
    "        y, ycov = propagate(lambda p: nMuon_func(x_inference, *p), m.values, m.covariance)\n",
    "        yerr_prop = np.diag(ycov) ** 0.5\n",
    "        for ii in range(len(fit_values)):\n",
    "            h0_fit[ii] = (fit_values[ii], yerr_prop[ii]**2)\n",
    "\n",
    "        \n",
    "        data_x = h1.axes[0].edges[:-1]\n",
    "        global data_y0\n",
    "        data_y0 = h0_fit.values()\n",
    "        data_y = h1.values()\n",
    "        data_yerr = np.sqrt(h1.variances())\n",
    "        not_zero = (data_yerr > 0) & (data_y > 0)\n",
    "        data_x, data_y0, data_y, data_yerr = (\n",
    "            data_x[not_zero], data_y0[not_zero], data_y0[not_zero], data_y0[not_zero]\n",
    "        )\n",
    "        least_squares = LeastSquares(data_x, data_y, data_yerr, reweight_hist_binomially_for_fit)\n",
    "        m = Minuit(least_squares, a=1, p=1)\n",
    "        m.limits = [(0, None), (0, 1)]\n",
    "        m.migrad()\n",
    "        m.hesse()\n",
    "        a_values_fitted.append(m.values[\"a\"])\n",
    "        p_values_fitted.append(m.values[\"p\"])\n",
    "    \n",
    "    print(a_values_fitted)\n",
    "    print(p_values_fitted)\n",
    "    \n",
    "    h2 = plots[\"QCD_Pt_MuEnriched_2018\"][h_name][:, ::sum, ::sum].copy().reset()\n",
    "\n",
    "    k = 0 \n",
    "    for a_value, p_value, qcd_bin in zip(a_values_fitted, p_values_fitted, qcd_bins):\n",
    "        h_i_0 = plots[qcd_bin][h_name][:, ::sum, ::sum]\n",
    "        \n",
    "        # Power law fit for hist without iso cut\n",
    "        data_x = h_i_0.axes[0].edges[:-1]\n",
    "        data_y = h_i_0.values()\n",
    "        data_yerr = np.sqrt(h_i_0.variances())\n",
    "        not_zero = (data_yerr > 0) & (data_y > 0)\n",
    "        data_x = data_x[not_zero]\n",
    "        data_y = data_y[not_zero]\n",
    "        data_yerr = data_yerr[not_zero]\n",
    "        least_squares = LeastSquares(data_x, data_y, data_yerr, nMuon_func)\n",
    "        m = Minuit(least_squares, a=1e15, b=1.5)\n",
    "        m.migrad()\n",
    "        m.hesse()\n",
    "        h_i_0_fit = h_i_0.copy().reset()\n",
    "        x_inference = h_i_0_fit.axes[0].edges[:-1]\n",
    "        fit_values = nMuon_func(x_inference, m.values[\"a\"], m.values[\"b\"])\n",
    "        y, ycov = propagate(lambda p: nMuon_func(x_inference, *p), m.values, m.covariance)\n",
    "        yerr_prop = np.diag(ycov) ** 0.5\n",
    "        for ii in range(len(fit_values)):\n",
    "            h_i_0_fit[ii] = (fit_values[ii], yerr_prop[ii]**2)\n",
    "        \n",
    "        h_i = h_i_0_fit.copy().reset()\n",
    "        for i in range(3, 10):\n",
    "            tot_val, tot_var = a_value * h_i_0_fit[i*1j].value, a_value * h_i_0_fit[i*1j].variance\n",
    "            for j in range(3, i+1):\n",
    "                weight = binomial(i, j, p_value)\n",
    "                h_i[j*1j] += hist.accumulators.WeightedSum(weight * tot_val, weight**2 * tot_var)\n",
    "        h2 += h_i\n",
    "    \n",
    "    return h2"
   ]
  },
  {
   "cell_type": "code",
   "execution_count": null,
   "id": "435c2515",
   "metadata": {
    "scrolled": false
   },
   "outputs": [],
   "source": [
    "fig, ax = plt.subplots(1, 1, figsize=(12, 12))\n",
    "\n",
    "hist_name = 'b_vetoed_vs_iso_cut_vs_nMuon_vs_nDarkPho_vs_nDarkMeson'\n",
    "muon_iso_cut = 15\n",
    "slc = (False, muon_iso_cut*1.1j, slice(None), slice(None, None, sum), slice(1j, None, sum))\n",
    "histogram = plots[\"QCD_Pt_MuEnriched_2018\"][hist_name]\n",
    "h0 = histogram[slc]\n",
    "\n",
    "data_x = h0.axes[0].edges[:-1]\n",
    "data_y = h0.values()\n",
    "data_yerr = np.sqrt(h0.variances())\n",
    "\n",
    "not_zero = (data_yerr > 0) & (data_y > 0)\n",
    "data_x = data_x[not_zero]\n",
    "data_y = data_y[not_zero]\n",
    "data_yerr = data_yerr[not_zero]\n",
    "\n",
    "least_squares = LeastSquares(data_x, data_y, data_yerr, nMuon_func)\n",
    "m = Minuit(least_squares, a=1e15, b=1.5)\n",
    "m.migrad()\n",
    "m.hesse()\n",
    "\n",
    "h1 = hist.Hist.new.Reg(9, 3, 12, name=\"nMuon\", label=\"fit\").Weight()\n",
    "x_inference = h1.axes[0].edges[:-1]\n",
    "fit_values = nMuon_func(x_inference, m.values[\"a\"], m.values[\"b\"])\n",
    "y, ycov = propagate(lambda p: nMuon_func(x_inference, *p), m.values, m.covariance)\n",
    "yerr_prop = np.diag(ycov) ** 0.5\n",
    "for ii in range(len(fit_values)):\n",
    "    h1[ii] = (fit_values[ii], yerr_prop[ii]**2)\n",
    "\n",
    "for i in range(8, 12):\n",
    "    print(f\"nMuon = {i}: {h1[i*1j].value:.4f} ± {np.sqrt(h1[i*1j].variance):.4f}\")\n",
    "\n",
    "h0.plot(label=\"MC\", yerr=np.sqrt(h0.variances()))\n",
    "h1.plot(label=r\"$a\\cdot10^{-b}$ fit\", yerr=np.sqrt(h1.variances()))\n",
    "\n",
    "#h2 = qcd_estimate_plot(iso_cut=muon_iso_cut, nMuon_cut=0)\n",
    "#h2.plot(label=\"binomial fit\", yerr=np.sqrt(h2.variances()))\n",
    "\n",
    "plt.yscale('log')\n",
    "plt.ylim(1e-2, 1e12)\n",
    "legend1 = plt.legend(title=\"QCD\", loc=3)\n",
    "ax.add_artist(legend1)\n",
    "\n",
    "signal_points = [\n",
    "    \"SUEP_mS125_mPhi1p4_T0p35_modehadronic_2018\",\n",
    "    \"SUEP_mS125_mPhi2_T2_modehadronic_2018\",\n",
    "    \"SUEP_mS125_mPhi8_T32_modehadronic_2018\",\n",
    "]\n",
    "h_s_arr = []\n",
    "for s in signal_points:\n",
    "    h_s = plots[s][hist_name][slc].plot(\n",
    "        yerr=np.sqrt(plots[s][hist_name][slc].variances()),\n",
    "        ls=\"--\"\n",
    "    )\n",
    "    h_s_arr.append(h_s[0])\n",
    "plt.legend(\n",
    "    h_s_arr, \n",
    "    [s.replace(\"_2018\", \"\").replace(\"mode\", \"\") for s in signal_points], \n",
    "    title=\"Signal\",\n",
    "    loc=1,\n",
    ")\n",
    "\n",
    "plt.show()"
   ]
  },
  {
   "cell_type": "code",
   "execution_count": null,
   "id": "a3b80171",
   "metadata": {},
   "outputs": [],
   "source": []
  },
  {
   "cell_type": "code",
   "execution_count": null,
   "id": "f3da4a64",
   "metadata": {},
   "outputs": [],
   "source": []
  },
  {
   "cell_type": "code",
   "execution_count": null,
   "id": "88b90a2c",
   "metadata": {},
   "outputs": [],
   "source": []
  },
  {
   "cell_type": "code",
   "execution_count": 29,
   "id": "bf8f36cc",
   "metadata": {},
   "outputs": [
    {
     "data": {
      "text/html": [
       "<pre style=\"white-space:pre;overflow-x:auto;line-height:normal;font-family:Menlo,'DejaVu Sans Mono',consolas,'Courier New',monospace\"><span style=\"color: #808000; text-decoration-color: #808000\">data_x</span>=<span style=\"color: #800080; text-decoration-color: #800080; font-weight: bold\">array</span><span style=\"font-weight: bold\">([</span><span style=\"color: #008080; text-decoration-color: #008080; font-weight: bold\">3</span>., <span style=\"color: #008080; text-decoration-color: #008080; font-weight: bold\">4</span>., <span style=\"color: #008080; text-decoration-color: #008080; font-weight: bold\">5</span>., <span style=\"color: #008080; text-decoration-color: #008080; font-weight: bold\">6</span>., <span style=\"color: #008080; text-decoration-color: #008080; font-weight: bold\">7</span>.<span style=\"font-weight: bold\">])</span>\n",
       "</pre>\n"
      ],
      "text/plain": [
       "\u001b[33mdata_x\u001b[0m=\u001b[1;35marray\u001b[0m\u001b[1m(\u001b[0m\u001b[1m[\u001b[0m\u001b[1;36m3\u001b[0m., \u001b[1;36m4\u001b[0m., \u001b[1;36m5\u001b[0m., \u001b[1;36m6\u001b[0m., \u001b[1;36m7\u001b[0m.\u001b[1m]\u001b[0m\u001b[1m)\u001b[0m\n"
      ]
     },
     "metadata": {},
     "output_type": "display_data"
    },
    {
     "data": {
      "text/html": [
       "<pre style=\"white-space:pre;overflow-x:auto;line-height:normal;font-family:Menlo,'DejaVu Sans Mono',consolas,'Courier New',monospace\"><span style=\"font-weight: bold\">[</span><span style=\"color: #008080; text-decoration-color: #008080; font-weight: bold\">13688416.59936088</span>  <span style=\"color: #008080; text-decoration-color: #008080; font-weight: bold\">1336098.90523524</span>    <span style=\"color: #008080; text-decoration-color: #008080; font-weight: bold\">81469.29949001</span>     <span style=\"color: #008080; text-decoration-color: #008080; font-weight: bold\">3216.76117375</span>\n",
       "      <span style=\"color: #008080; text-decoration-color: #008080; font-weight: bold\">214.05610682</span><span style=\"font-weight: bold\">]</span>\n",
       "</pre>\n"
      ],
      "text/plain": [
       "\u001b[1m[\u001b[0m\u001b[1;36m13688416.59936088\u001b[0m  \u001b[1;36m1336098.90523524\u001b[0m    \u001b[1;36m81469.29949001\u001b[0m     \u001b[1;36m3216.76117375\u001b[0m\n",
       "      \u001b[1;36m214.05610682\u001b[0m\u001b[1m]\u001b[0m\n"
      ]
     },
     "metadata": {},
     "output_type": "display_data"
    },
    {
     "data": {
      "text/html": [
       "<pre style=\"white-space:pre;overflow-x:auto;line-height:normal;font-family:Menlo,'DejaVu Sans Mono',consolas,'Courier New',monospace\"><span style=\"font-weight: bold\">[</span><span style=\"color: #008080; text-decoration-color: #008080; font-weight: bold\">56075.60716057</span> <span style=\"color: #008080; text-decoration-color: #008080; font-weight: bold\">17519.79312183</span>  <span style=\"color: #008080; text-decoration-color: #008080; font-weight: bold\">4326.78383234</span>   <span style=\"color: #008080; text-decoration-color: #008080; font-weight: bold\">861.2776869</span>\n",
       "   <span style=\"color: #008080; text-decoration-color: #008080; font-weight: bold\">214.05610682</span><span style=\"font-weight: bold\">]</span>\n",
       "</pre>\n"
      ],
      "text/plain": [
       "\u001b[1m[\u001b[0m\u001b[1;36m56075.60716057\u001b[0m \u001b[1;36m17519.79312183\u001b[0m  \u001b[1;36m4326.78383234\u001b[0m   \u001b[1;36m861.2776869\u001b[0m\n",
       "   \u001b[1;36m214.05610682\u001b[0m\u001b[1m]\u001b[0m\n"
      ]
     },
     "metadata": {},
     "output_type": "display_data"
    },
    {
     "data": {
      "text/html": [
       "<pre style=\"white-space:pre;overflow-x:auto;line-height:normal;font-family:Menlo,'DejaVu Sans Mono',consolas,'Courier New',monospace\">┌─────────────────────────────────────────────────────────────────────────┐\n",
       "│                                Migrad                                   │\n",
       "├──────────────────────────────────┬──────────────────────────────────────┤\n",
       "│ FCN = <span style=\"color: #008080; text-decoration-color: #008080; font-weight: bold\">145.1</span> <span style=\"font-weight: bold\">(</span>χ²/ndof = <span style=\"color: #008080; text-decoration-color: #008080; font-weight: bold\">48.4</span><span style=\"font-weight: bold\">)</span>     │              Nfcn = <span style=\"color: #008080; text-decoration-color: #008080; font-weight: bold\">80</span>               │\n",
       "│ EDM = <span style=\"color: #008080; text-decoration-color: #008080; font-weight: bold\">2.31e-07</span> <span style=\"font-weight: bold\">(</span>Goal: <span style=\"color: #008080; text-decoration-color: #008080; font-weight: bold\">0.0002</span><span style=\"font-weight: bold\">)</span>    │                                      │\n",
       "├──────────────────────────────────┼──────────────────────────────────────┤\n",
       "│          Valid Minimum           │   Below EDM threshold <span style=\"font-weight: bold\">(</span>goal x <span style=\"color: #008080; text-decoration-color: #008080; font-weight: bold\">10</span><span style=\"font-weight: bold\">)</span>    │\n",
       "├──────────────────────────────────┼──────────────────────────────────────┤\n",
       "│      No parameters at limit      │           Below call limit           │\n",
       "├──────────────────────────────────┼──────────────────────────────────────┤\n",
       "│             Hesse ok             │         Covariance accurate          │\n",
       "└──────────────────────────────────┴──────────────────────────────────────┘\n",
       "┌───┬──────┬───────────┬───────────┬────────────┬────────────┬─────────┬─────────┬───────┐\n",
       "│   │ Name │   Value   │ Hesse Err │ Minos Err- │ Minos Err+ │ Limit-  │ Limit+  │ Fixed │\n",
       "├───┼──────┼───────────┼───────────┼────────────┼────────────┼─────────┼─────────┼───────┤\n",
       "│ <span style=\"color: #008080; text-decoration-color: #008080; font-weight: bold\">0</span> │ a    │  <span style=\"color: #008080; text-decoration-color: #008080; font-weight: bold\">20.6e9</span>   │   <span style=\"color: #008080; text-decoration-color: #008080; font-weight: bold\">0.7e9</span>   │            │            │         │         │       │\n",
       "│ <span style=\"color: #008080; text-decoration-color: #008080; font-weight: bold\">1</span> │ b    │   <span style=\"color: #008080; text-decoration-color: #008080; font-weight: bold\">1.059</span>   │   <span style=\"color: #008080; text-decoration-color: #008080; font-weight: bold\">0.005</span>   │            │            │         │         │       │\n",
       "└───┴──────┴───────────┴───────────┴────────────┴────────────┴─────────┴─────────┴───────┘\n",
       "┌───┬───────────────────────────────────┐\n",
       "│   │                a                b │\n",
       "├───┼───────────────────────────────────┤\n",
       "│ a │         <span style=\"color: #008080; text-decoration-color: #008080; font-weight: bold\">4.85e+17</span> <span style=\"color: #008080; text-decoration-color: #008080; font-weight: bold\">3.249169235409e6</span> │\n",
       "│ b │ <span style=\"color: #008080; text-decoration-color: #008080; font-weight: bold\">3.249169235409e6</span>         <span style=\"color: #008080; text-decoration-color: #008080; font-weight: bold\">2.21e-05</span> │\n",
       "└───┴───────────────────────────────────┘\n",
       "</pre>\n"
      ],
      "text/plain": [
       "┌─────────────────────────────────────────────────────────────────────────┐\n",
       "│                                Migrad                                   │\n",
       "├──────────────────────────────────┬──────────────────────────────────────┤\n",
       "│ FCN = \u001b[1;36m145.1\u001b[0m \u001b[1m(\u001b[0mχ²/ndof = \u001b[1;36m48.4\u001b[0m\u001b[1m)\u001b[0m     │              Nfcn = \u001b[1;36m80\u001b[0m               │\n",
       "│ EDM = \u001b[1;36m2.31e-07\u001b[0m \u001b[1m(\u001b[0mGoal: \u001b[1;36m0.0002\u001b[0m\u001b[1m)\u001b[0m    │                                      │\n",
       "├──────────────────────────────────┼──────────────────────────────────────┤\n",
       "│          Valid Minimum           │   Below EDM threshold \u001b[1m(\u001b[0mgoal x \u001b[1;36m10\u001b[0m\u001b[1m)\u001b[0m    │\n",
       "├──────────────────────────────────┼──────────────────────────────────────┤\n",
       "│      No parameters at limit      │           Below call limit           │\n",
       "├──────────────────────────────────┼──────────────────────────────────────┤\n",
       "│             Hesse ok             │         Covariance accurate          │\n",
       "└──────────────────────────────────┴──────────────────────────────────────┘\n",
       "┌───┬──────┬───────────┬───────────┬────────────┬────────────┬─────────┬─────────┬───────┐\n",
       "│   │ Name │   Value   │ Hesse Err │ Minos Err- │ Minos Err+ │ Limit-  │ Limit+  │ Fixed │\n",
       "├───┼──────┼───────────┼───────────┼────────────┼────────────┼─────────┼─────────┼───────┤\n",
       "│ \u001b[1;36m0\u001b[0m │ a    │  \u001b[1;36m20.6e9\u001b[0m   │   \u001b[1;36m0.7e9\u001b[0m   │            │            │         │         │       │\n",
       "│ \u001b[1;36m1\u001b[0m │ b    │   \u001b[1;36m1.059\u001b[0m   │   \u001b[1;36m0.005\u001b[0m   │            │            │         │         │       │\n",
       "└───┴──────┴───────────┴───────────┴────────────┴────────────┴─────────┴─────────┴───────┘\n",
       "┌───┬───────────────────────────────────┐\n",
       "│   │                a                b │\n",
       "├───┼───────────────────────────────────┤\n",
       "│ a │         \u001b[1;36m4.85e+17\u001b[0m \u001b[1;36m3.249169235409e6\u001b[0m │\n",
       "│ b │ \u001b[1;36m3.249169235409e6\u001b[0m         \u001b[1;36m2.21e-05\u001b[0m │\n",
       "└───┴───────────────────────────────────┘\n"
      ]
     },
     "metadata": {},
     "output_type": "display_data"
    },
    {
     "data": {
      "text/html": [
       "<pre style=\"white-space:pre;overflow-x:auto;line-height:normal;font-family:Menlo,'DejaVu Sans Mono',consolas,'Courier New',monospace\">a: <span style=\"color: #008080; text-decoration-color: #008080; font-weight: bold\">20644284336.024025</span>\n",
       "</pre>\n"
      ],
      "text/plain": [
       "a: \u001b[1;36m20644284336.024025\u001b[0m\n"
      ]
     },
     "metadata": {},
     "output_type": "display_data"
    },
    {
     "data": {
      "text/html": [
       "<pre style=\"white-space:pre;overflow-x:auto;line-height:normal;font-family:Menlo,'DejaVu Sans Mono',consolas,'Courier New',monospace\">b: <span style=\"color: #008080; text-decoration-color: #008080; font-weight: bold\">1.0587355227470254</span>\n",
       "</pre>\n"
      ],
      "text/plain": [
       "b: \u001b[1;36m1.0587355227470254\u001b[0m\n"
      ]
     },
     "metadata": {},
     "output_type": "display_data"
    },
    {
     "data": {
      "image/png": "[encoded data removed]",
      "text/plain": [
       "<Figure size 720x720 with 1 Axes>"
      ]
     },
     "metadata": {
      "needs_background": "light"
     },
     "output_type": "display_data"
    }
   ],
   "source": [
    "h_name = 'b_vetoed_vs_iso_cut_vs_nMuon_vs_nDarkPho_vs_nDarkMeson'\n",
    "qcd_bin = \"QCD_Pt-300To470_MuEnrichedPt5_TuneCP5_13TeV-pythia8_histograms_normalized_2018\"\n",
    "h0 = plots[qcd_bin][h_name][False, 99.1j, :, ::sum, ::sum]\n",
    "h1 = plots[qcd_bin][h_name][False, 15.1j, :, ::sum, ::sum]\n",
    "\n",
    "# Power law fit for hist without iso cut\n",
    "data_x = h0.axes[0].edges[:-1]\n",
    "data_y = h0.values()\n",
    "data_yerr = np.sqrt(h0.variances())\n",
    "not_zero = (data_yerr > 0) & (data_y > 0)\n",
    "data_x = data_x[not_zero]\n",
    "data_y = data_y[not_zero]\n",
    "data_yerr = data_yerr[not_zero]\n",
    "print(f\"{data_x=}\")\n",
    "print(data_y)\n",
    "print(data_yerr)\n",
    "least_squares = LeastSquares(data_x, data_y, data_yerr, nMuon_func)\n",
    "m = Minuit(least_squares, a=17485763957, b=1.035)\n",
    "#m.fixed[\"a\"] = True\n",
    "#m.fixed[\"b\"] = True\n",
    "m.migrad()\n",
    "m.hesse()\n",
    "print(m)\n",
    "print(f\"a: {m.values['a']}\")\n",
    "print(f\"b: {m.values['b']}\")\n",
    "\n",
    "h0_fit = h0.copy().reset()\n",
    "x_inference = h0_fit.axes[0].edges[:-1]\n",
    "fit_values = nMuon_func(x_inference, m.values[\"a\"], m.values[\"b\"])\n",
    "y, ycov = propagate(lambda p: nMuon_func(x_inference, *p), m.values, m.covariance)\n",
    "yerr_prop = np.diag(ycov) ** 0.5\n",
    "for ii in range(len(fit_values)):\n",
    "    h0_fit[ii] = (fit_values[ii], yerr_prop[ii]**2)\n",
    "\n",
    "h0.plot(label=\"MC\")\n",
    "h0_fit.plot(label=\"fit\")\n",
    "plt.yscale('log')\n",
    "plt.legend()\n",
    "plt.show()\n",
    "\n",
    "# data_x = h1.axes[0].edges[:-1]\n",
    "# global data_y0\n",
    "# data_y0 = h0_fit.values()\n",
    "# data_y = h1.values()\n",
    "# data_yerr = np.sqrt(h1.variances())\n",
    "# not_zero = (data_yerr > 0) & (data_y > 0)\n",
    "# data_x, data_y0, data_y, data_yerr = (\n",
    "#     data_x[not_zero], data_y0[not_zero], data_y0[not_zero], data_y0[not_zero]\n",
    "# )\n",
    "# least_squares = LeastSquares(data_x, data_y, data_yerr, reweight_hist_binomially_for_fit)\n",
    "# m = Minuit(least_squares, a=1, p=1)\n",
    "# m.limits = [(0, None), (0, 1)]\n",
    "# m.migrad()\n",
    "# m.hesse()\n",
    "# print(m.values[\"a\"], m.values[\"p\"])"
   ]
  },
  {
   "cell_type": "code",
   "execution_count": 11,
   "id": "92702ef7",
   "metadata": {},
   "outputs": [],
   "source": [
    "def log_nMuon_func(x, loga, b):\n",
    "    return loga - b * x"
   ]
  },
  {
   "cell_type": "code",
   "execution_count": 34,
   "id": "3dcad7ad",
   "metadata": {},
   "outputs": [],
   "source": [
    "def binomial(k, n, p):\n",
    "    q = 1 - p\n",
    "    coeff = math.factorial(n) / (math.factorial(k) * math.factorial(n - k))\n",
    "    return coeff * (p**k) * (q**(n-k))\n",
    "\n",
    "def nMuon_func(x, a, b):\n",
    "    return a * 10**(-b * x)\n",
    "\n",
    "def ultimate_func(x, a, b, p):\n",
    "    y_out = np.zeros_like(x)\n",
    "    for k, x_k in enumerate(x):\n",
    "        for x_n in x[x >= x_k]:\n",
    "            y_out[k] += binomial(int(x_k), int(x_n), p) * a * 10**(-b * x_n)\n",
    "    return y_out"
   ]
  },
  {
   "cell_type": "code",
   "execution_count": 38,
   "id": "df9951a8",
   "metadata": {
    "scrolled": false
   },
   "outputs": [
    {
     "data": {
      "text/html": [
       "<pre style=\"white-space:pre;overflow-x:auto;line-height:normal;font-family:Menlo,'DejaVu Sans Mono',consolas,'Courier New',monospace\">Processing QCD_Pt-600To800_MuEnrichedPt5_TuneCP5_13TeV-pythia8_histograms_normalized_2018 bin\n",
       "</pre>\n"
      ],
      "text/plain": [
       "Processing QCD_Pt-600To800_MuEnrichedPt5_TuneCP5_13TeV-pythia8_histograms_normalized_2018 bin\n"
      ]
     },
     "metadata": {},
     "output_type": "display_data"
    },
    {
     "data": {
      "text/html": [
       "<pre style=\"white-space:pre;overflow-x:auto;line-height:normal;font-family:Menlo,'DejaVu Sans Mono',consolas,'Courier New',monospace\"><span style=\"font-weight: bold\">[</span><span style=\"color: #008080; text-decoration-color: #008080; font-weight: bold\">221020.84820378</span>   <span style=\"color: #008080; text-decoration-color: #008080; font-weight: bold\">9141.2110901</span>     <span style=\"color: #008080; text-decoration-color: #008080; font-weight: bold\">378.07171887</span>     <span style=\"color: #008080; text-decoration-color: #008080; font-weight: bold\">15.63664061</span>\n",
       "      <span style=\"color: #008080; text-decoration-color: #008080; font-weight: bold\">0.6466784</span>       <span style=\"color: #008080; text-decoration-color: #008080; font-weight: bold\">0.02672218</span>      <span style=\"color: #008080; text-decoration-color: #008080; font-weight: bold\">0.00109462</span>      <span style=\"color: #008080; text-decoration-color: #008080; font-weight: bold\">0.0000421</span>\n",
       "      <span style=\"color: #008080; text-decoration-color: #008080; font-weight: bold\">0.00000116</span><span style=\"font-weight: bold\">]</span>\n",
       "</pre>\n"
      ],
      "text/plain": [
       "\u001b[1m[\u001b[0m\u001b[1;36m221020.84820378\u001b[0m   \u001b[1;36m9141.2110901\u001b[0m     \u001b[1;36m378.07171887\u001b[0m     \u001b[1;36m15.63664061\u001b[0m\n",
       "      \u001b[1;36m0.6466784\u001b[0m       \u001b[1;36m0.02672218\u001b[0m      \u001b[1;36m0.00109462\u001b[0m      \u001b[1;36m0.0000421\u001b[0m\n",
       "      \u001b[1;36m0.00000116\u001b[0m\u001b[1m]\u001b[0m\n"
      ]
     },
     "metadata": {},
     "output_type": "display_data"
    },
    {
     "data": {
      "text/html": [
       "<pre style=\"white-space:pre;overflow-x:auto;line-height:normal;font-family:Menlo,'DejaVu Sans Mono',consolas,'Courier New',monospace\"><span style=\"font-weight: bold\">[</span><span style=\"color: #008080; text-decoration-color: #008080; font-weight: bold\">416883.83496</span>     <span style=\"color: #008080; text-decoration-color: #008080; font-weight: bold\">48441.89312745</span>   <span style=\"color: #008080; text-decoration-color: #008080; font-weight: bold\">3368.5795932</span>     <span style=\"color: #008080; text-decoration-color: #008080; font-weight: bold\">156.53238581</span>\n",
       "      <span style=\"color: #008080; text-decoration-color: #008080; font-weight: bold\">8.055778</span>        <span style=\"color: #008080; text-decoration-color: #008080; font-weight: bold\">0</span>.              <span style=\"color: #008080; text-decoration-color: #008080; font-weight: bold\">0</span>.              <span style=\"color: #008080; text-decoration-color: #008080; font-weight: bold\">0</span>.\n",
       "      <span style=\"color: #008080; text-decoration-color: #008080; font-weight: bold\">0</span>.        <span style=\"font-weight: bold\">]</span>\n",
       "</pre>\n"
      ],
      "text/plain": [
       "\u001b[1m[\u001b[0m\u001b[1;36m416883.83496\u001b[0m     \u001b[1;36m48441.89312745\u001b[0m   \u001b[1;36m3368.5795932\u001b[0m     \u001b[1;36m156.53238581\u001b[0m\n",
       "      \u001b[1;36m8.055778\u001b[0m        \u001b[1;36m0\u001b[0m.              \u001b[1;36m0\u001b[0m.              \u001b[1;36m0\u001b[0m.\n",
       "      \u001b[1;36m0\u001b[0m.        \u001b[1m]\u001b[0m\n"
      ]
     },
     "metadata": {},
     "output_type": "display_data"
    },
    {
     "data": {
      "text/html": [
       "<pre style=\"white-space:pre;overflow-x:auto;line-height:normal;font-family:Menlo,'DejaVu Sans Mono',consolas,'Courier New',monospace\"><span style=\"font-weight: bold\">[</span><span style=\"color: #008080; text-decoration-color: #008080; font-weight: bold\">221020.84820378</span>   <span style=\"color: #008080; text-decoration-color: #008080; font-weight: bold\">9141.2110901</span>     <span style=\"color: #008080; text-decoration-color: #008080; font-weight: bold\">378.07171887</span>     <span style=\"color: #008080; text-decoration-color: #008080; font-weight: bold\">15.63664061</span>\n",
       "      <span style=\"color: #008080; text-decoration-color: #008080; font-weight: bold\">0.6466784</span>       <span style=\"color: #008080; text-decoration-color: #008080; font-weight: bold\">0.02672218</span>      <span style=\"color: #008080; text-decoration-color: #008080; font-weight: bold\">0.00109462</span>      <span style=\"color: #008080; text-decoration-color: #008080; font-weight: bold\">0.0000421</span>\n",
       "      <span style=\"color: #008080; text-decoration-color: #008080; font-weight: bold\">0.00000116</span><span style=\"font-weight: bold\">]</span>\n",
       "</pre>\n"
      ],
      "text/plain": [
       "\u001b[1m[\u001b[0m\u001b[1;36m221020.84820378\u001b[0m   \u001b[1;36m9141.2110901\u001b[0m     \u001b[1;36m378.07171887\u001b[0m     \u001b[1;36m15.63664061\u001b[0m\n",
       "      \u001b[1;36m0.6466784\u001b[0m       \u001b[1;36m0.02672218\u001b[0m      \u001b[1;36m0.00109462\u001b[0m      \u001b[1;36m0.0000421\u001b[0m\n",
       "      \u001b[1;36m0.00000116\u001b[0m\u001b[1m]\u001b[0m\n"
      ]
     },
     "metadata": {},
     "output_type": "display_data"
    },
    {
     "data": {
      "image/png": "[encoded data removed]",
      "text/plain": [
       "<Figure size 720x720 with 1 Axes>"
      ]
     },
     "metadata": {
      "needs_background": "light"
     },
     "output_type": "display_data"
    }
   ],
   "source": [
    "suffix = \"MuEnrichedPt5_TuneCP5_13TeV-pythia8_histograms_normalized_2018\"\n",
    "qcd_bins = [\n",
    "#     f'QCD_Pt-15To20_{suffix}',\n",
    "#     f'QCD_Pt-20To30_{suffix}',\n",
    "#     f'QCD_Pt-30To50_{suffix}',\n",
    "#     f'QCD_Pt-50To80_{suffix}',\n",
    "#     f'QCD_Pt-80To120_{suffix}',\n",
    "#     f'QCD_Pt-120To170_{suffix}',\n",
    "#     f'QCD_Pt-170To300_{suffix}',\n",
    "#     f'QCD_Pt-300To470_{suffix}',\n",
    "#     f'QCD_Pt-470To600_{suffix}',\n",
    "    f'QCD_Pt-600To800_{suffix}',\n",
    "#     f'QCD_Pt-800To1000_{suffix}',\n",
    "#     f'QCD_Pt-1000_{suffix}',\n",
    "]\n",
    "h_name = 'b_vetoed_vs_iso_cut_vs_nMuon_vs_nDarkPho_vs_nDarkMeson'\n",
    "for qcd_bin in qcd_bins:\n",
    "    print(f\"Processing {qcd_bin} bin\")\n",
    "    h_name = 'b_vetoed_vs_iso_cut_vs_nMuon_vs_nDarkPho_vs_nDarkMeson'\n",
    "    # qcd_bin = \"QCD_Pt-300To470_MuEnrichedPt5_TuneCP5_13TeV-pythia8_histograms_normalized_2018\"\n",
    "    h0 = plots[qcd_bin][h_name][False, 99.1j, :, ::sum, ::sum]\n",
    "\n",
    "    # Power law fit for hist without iso cut\n",
    "    data_x = h0.axes[0].edges[:-1]\n",
    "    data_y = h0.values()\n",
    "    data_yerr = np.sqrt(h0.variances())\n",
    "    not_zero = (data_yerr > 0) & (data_y > 0)\n",
    "    data_x = data_x[not_zero]\n",
    "    data_y = data_y[not_zero]\n",
    "    data_yerr = data_yerr[not_zero]\n",
    "\n",
    "    #data_logy = np.log10(data_y)\n",
    "    #data_logyerr = data_yerr / (data_y * np.log(10))\n",
    "\n",
    "    #print(data_x)\n",
    "    #print(data_y)\n",
    "    #print(data_yerr)\n",
    "    #print(data_logy)\n",
    "    #print(data_logyerr)\n",
    "    least_squares = LeastSquares(data_x, data_y, data_yerr, ultimate_func)\n",
    "    m = Minuit(least_squares, a=3e9, b=1.1, p=0.5)\n",
    "    m.limits[\"a\"] = (0, None)\n",
    "    m.limits[\"b\"] = (0, None)\n",
    "    m.limits[\"p\"] = (0, 1)\n",
    "    m.fixed[\"a\"] = True\n",
    "    m.fixed[\"b\"] = True\n",
    "    m.fixed[\"p\"] = True\n",
    "    m.migrad()\n",
    "    m.hesse()\n",
    "    # print(m)\n",
    "\n",
    "    h0_fit = h0.copy().reset()\n",
    "    x_inference = h0_fit.axes[0].edges[:-1]\n",
    "    y = ultimate_func(x_inference, m.values[\"a\"], m.values[\"b\"], m.values[\"p\"])\n",
    "    print(y)\n",
    "    # y, ycov = propagate(lambda p: ultimate_func(x_inference, *p), m.values, m.covariance)\n",
    "    # yerr_prop = np.diag(logycov) ** 0.5\n",
    "\n",
    "    #print(f\"a: {10**m.values['loga']}\")\n",
    "    #print(f\"b: {m.values['b']}\")\n",
    "\n",
    "    #y = 10 ** logy\n",
    "    #yerr_prop = np.log(10) * (10 ** logy) * logyerr_prop\n",
    "\n",
    "    for ii in range(len(y)):\n",
    "        h0_fit[ii] = (y[ii], y[ii]) #yerr_prop[ii]**2)\n",
    "    \n",
    "    ########################################################\n",
    "    least_squares = LeastSquares(data_x, data_y, data_yerr, nMuon_func)\n",
    "    m = Minuit(least_squares, a=3e9, b=1.1)\n",
    "    m.limits[\"a\"] = (0, None)\n",
    "    m.limits[\"b\"] = (0, None)\n",
    "    m.fixed[\"a\"] = True\n",
    "    m.fixed[\"b\"] = True\n",
    "    m.migrad()\n",
    "    m.hesse()\n",
    "\n",
    "    h0_fit2 = h0.copy().reset()\n",
    "    x_inference = h0_fit2.axes[0].edges[:-1]\n",
    "    y = nMuon_func(x_inference, m.values[\"a\"], m.values[\"b\"])\n",
    "\n",
    "    for ii in range(len(y)):\n",
    "        h0_fit2[ii] = (y[ii], y[ii]) #yerr_prop[ii]**2)\n",
    "    ########################################################\n",
    "    \n",
    "\n",
    "    print(h0.values())\n",
    "    print(h0_fit.values())\n",
    "    fig, ax = plt.subplots(1, 1, figsize=(10, 10))\n",
    "    h0.plot(label=\"MC\", ax=ax)\n",
    "    h0_fit.plot(label=\"fit\", ax=ax)\n",
    "    h0_fit2.plot(label=\"fit2\", ax=ax)\n",
    "    ax.set_yscale('log')\n",
    "    #ax.set_ylim(1e-1, 1e12)\n",
    "    ax.legend()\n",
    "    plt.show()"
   ]
  },
  {
   "cell_type": "code",
   "execution_count": null,
   "id": "81c06bfc",
   "metadata": {},
   "outputs": [],
   "source": [
    "ultimate_func(np.array([3., 4., 5., 6., 7., 8., 9.]), 1, 1, 1)"
   ]
  },
  {
   "cell_type": "code",
   "execution_count": 39,
   "id": "92d1d872",
   "metadata": {},
   "outputs": [
    {
     "data": {
      "text/plain": [
       "dtype('float64')"
      ]
     },
     "execution_count": 39,
     "metadata": {},
     "output_type": "execute_result"
    }
   ],
   "source": []
  },
  {
   "cell_type": "code",
   "execution_count": null,
   "id": "36514652",
   "metadata": {},
   "outputs": [],
   "source": []
  }
 ],
 "metadata": {
  "kernelspec": {
   "display_name": "myenv",
   "language": "python",
   "name": "myenv"
  },
  "language_info": {
   "codemirror_mode": {
    "name": "ipython",
    "version": 3
   },
   "file_extension": ".py",
   "mimetype": "text/x-python",
   "name": "python",
   "nbconvert_exporter": "python",
   "pygments_lexer": "ipython3",
   "version": "3.11.9"
  },
  "toc-autonumbering": false,
  "toc-showmarkdowntxt": false,
  "toc-showtags": false
 },
 "nbformat": 4,
 "nbformat_minor": 5
}
