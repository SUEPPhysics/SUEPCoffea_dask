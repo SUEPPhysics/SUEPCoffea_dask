{
 "cells": [
  {
   "cell_type": "markdown",
   "id": "3ac5ce4a",
   "metadata": {},
   "source": [
    "# Signal efficiencies"
   ]
  },
  {
   "cell_type": "code",
   "execution_count": 3,
   "id": "facdab1c",
   "metadata": {},
   "outputs": [],
   "source": [
    "import itertools\n",
    "import uproot\n",
    "import awkward as ak\n",
    "import numpy as np\n",
    "import pandas as pd\n",
    "from coffea import nanoevents\n",
    "import vector\n",
    "import fastjet\n",
    "import math\n",
    "import matplotlib.pyplot as plt\n",
    "import matplotlib\n",
    "import mplhep as hep\n",
    "import hist\n",
    "from hist import Hist\n",
    "from rich.table import Table\n",
    "from rich.console import Console"
   ]
  },
  {
   "cell_type": "code",
   "execution_count": 4,
   "id": "7cc8ba18",
   "metadata": {},
   "outputs": [],
   "source": [
    "matplotlib.rcParams.update({'figure.max_open_warning': 0})\n",
    "plt.style.use(hep.style.CMS)"
   ]
  },
  {
   "cell_type": "code",
   "execution_count": 5,
   "id": "f674bc3e",
   "metadata": {},
   "outputs": [],
   "source": [
    "vector.register_awkward()"
   ]
  },
  {
   "cell_type": "code",
   "execution_count": 6,
   "id": "fbe99d86",
   "metadata": {},
   "outputs": [],
   "source": [
    "np.set_printoptions(suppress=True)"
   ]
  },
  {
   "cell_type": "code",
   "execution_count": 7,
   "id": "4928717a",
   "metadata": {},
   "outputs": [],
   "source": [
    "def inter_isolation(leptons_1, leptons_2, dR=1.6):\n",
    "    \"\"\"\n",
    "    Compute the inter-isolation of each particle. It is supposed to work for one particle per event. The input is:\n",
    "    - leptons_1: array of leptons for isolation calculation\n",
    "    - leptons_2: array of all leptons in the events\n",
    "    - dR: deltaR cut for isolation calculation\n",
    "    \"\"\"\n",
    "    a, b = ak.unzip(ak.cartesian([leptons_1, leptons_2]))\n",
    "    deltar_mask = a.deltaR(b) < dR\n",
    "    return (ak.sum(b[deltar_mask].pt, axis=-1) - leptons_1.pt) / leptons_1.pt\n",
    "\n",
    "def muon_filter(events, nMuons=4):\n",
    "    \"\"\"\n",
    "    Filter events after the TripleMu trigger.\n",
    "    Cleans muons and electrons.\n",
    "    Requires at least nMuons with mediumId, pt, dxy, dz, and eta cuts.\n",
    "    \"\"\"\n",
    "    muons = events.Muon\n",
    "    electrons = events.Electron\n",
    "    clean_muons = (\n",
    "        (events.Muon.mediumId)\n",
    "        & (events.Muon.pt > 3)\n",
    "        & (abs(events.Muon.dxy) <= 0.02)\n",
    "        & (abs(events.Muon.dz) <= 0.1)\n",
    "        & (abs(events.Muon.eta) < 2.4)\n",
    "    )\n",
    "    clean_electrons = (\n",
    "        (events.Electron.mvaFall17V2noIso_WPL)\n",
    "        & (events.Electron.pt > 3)\n",
    "        & (\n",
    "            abs(events.Electron.dxy)\n",
    "            < 0.05 + 0.05 * (abs(events.Electron.eta) > 1.479)\n",
    "        )\n",
    "        & (\n",
    "            abs(events.Electron.dz)\n",
    "            < 0.10 + 0.10 * (abs(events.Electron.eta) > 1.479)\n",
    "        )\n",
    "        & ((abs(events.Electron.eta) < 1.444) | (abs(events.Electron.eta) > 1.566))\n",
    "        & (abs(events.Electron.eta) < 2.5)\n",
    "    )\n",
    "    muons = muons[clean_muons]\n",
    "    electrons = electrons[clean_electrons]\n",
    "    select_by_muons = ak.num(muons, axis=-1) >= nMuons\n",
    "    events = events[select_by_muons]\n",
    "    muons = muons[select_by_muons]\n",
    "    electrons = electrons[select_by_muons]\n",
    "    return events, electrons, muons"
   ]
  },
  {
   "cell_type": "code",
   "execution_count": 8,
   "id": "1473d01f",
   "metadata": {},
   "outputs": [],
   "source": [
    "lumi = 59817.406\n",
    "xsec_125 = 45.2"
   ]
  },
  {
   "cell_type": "code",
   "execution_count": 9,
   "id": "7d682b94",
   "metadata": {},
   "outputs": [],
   "source": [
    "# Some commone paths\n",
    "xrd_path = 'root://cmseos.fnal.gov//store/user/chpapage/SUEP_low_temp/2018/NANOAOD_merged/'\n",
    "pre = \"step_NANOAOD_ggH-channel_mMed-125\"\n",
    "dataset = lambda mD, temp, decay: f\"{pre}_mDark-{mD}_temp-{temp}_decay-{decay}_13TeV-pythia8.root\""
   ]
  },
  {
   "cell_type": "code",
   "execution_count": 13,
   "id": "3de79207",
   "metadata": {},
   "outputs": [],
   "source": [
    "decays = ['darkPho']\n",
    "scan_points = np.array(\n",
    "    [\n",
    "        [1, 0.25],\n",
    "        [1, 0.5],\n",
    "        [1, 1],\n",
    "        [1, 2],\n",
    "        [1, 4],\n",
    "        [2, 0.5],\n",
    "        [2, 1],\n",
    "        [2, 2],\n",
    "        [2, 4],\n",
    "        [2, 8],\n",
    "        [4, 1],\n",
    "        [4, 2],\n",
    "        [4, 4],\n",
    "        [4, 8],\n",
    "        [4, 16],\n",
    "        [8, 2],\n",
    "        [8, 4],\n",
    "        [8, 8],\n",
    "        [8, 16],\n",
    "        [8, 32],\n",
    "    ]\n",
    ")\n",
    "m_phi, temp = scan_points[:, 0], scan_points[:, 1]\n",
    "\n",
    "decays_vs_mD = {\n",
    "  \"darkPho\": [1, 2, 4, 8],\n",
    "  #\"darkPhoHad\": [1.4, 2, 4, 8],\n",
    "}\n",
    "ratios = [0.25, 0.5, 1, 2, 4]"
   ]
  },
  {
   "cell_type": "code",
   "execution_count": 14,
   "id": "6f5798a5",
   "metadata": {},
   "outputs": [
    {
     "name": "stdout",
     "output_type": "stream",
     "text": [
      "Working on mD-1_T-0.25_darkPho\n",
      "Working on mD-1_T-0.5_darkPho\n",
      "Working on mD-1_T-1_darkPho\n",
      "Working on mD-1_T-2_darkPho\n",
      "Working on mD-1_T-4_darkPho\n",
      "Working on mD-2_T-0.5_darkPho\n",
      "Working on mD-2_T-1_darkPho\n",
      "Working on mD-2_T-2_darkPho\n",
      "Working on mD-2_T-4_darkPho\n",
      "Working on mD-2_T-8_darkPho\n",
      "Working on mD-4_T-1_darkPho\n",
      "Working on mD-4_T-2_darkPho\n",
      "Working on mD-4_T-4_darkPho\n",
      "Working on mD-4_T-8_darkPho\n",
      "Working on mD-4_T-16_darkPho\n",
      "Working on mD-8_T-2_darkPho\n",
      "Working on mD-8_T-4_darkPho\n",
      "Working on mD-8_T-8_darkPho\n",
      "Working on mD-8_T-16_darkPho\n",
      "Working on mD-8_T-32_darkPho\n"
     ]
    }
   ],
   "source": [
    "cutflows = {}\n",
    "eff_5_3_3 = []\n",
    "eff_10_5_5 = []\n",
    "eff_or = []\n",
    "for decay, mDs in decays_vs_mD.items():\n",
    "    for mD in mDs:\n",
    "        for r in ratios:\n",
    "            t = r * mD\n",
    "            file = nanoevents.NanoEventsFactory.from_root(\n",
    "                xrd_path + dataset(mD, t, decay).replace('.0', ''), \n",
    "                schemaclass=nanoevents.NanoAODSchema\n",
    "            )\n",
    "            events = file.events()\n",
    "            name = f'mD-{mD}_T-{t}_{decay}'.replace('.0', '')\n",
    "            print(f'Working on {name}')\n",
    "            cutflows[name] = Hist.new.StrCategory(\n",
    "                [\n",
    "                    'all',\n",
    "                    'TripleMu_5_3_3_Mass3p8_DZ',  \n",
    "                    'TripleMu_10_5_5_DZ', \n",
    "                    'TripleMu_10_5_5_DZ | TripleMu_5_3_3_Mass3p8_DZ',\n",
    "                ], \n",
    "                name='cutflow', \n",
    "                label='cutflow',\n",
    "            ).Weight()\n",
    "            n_total = len(events)\n",
    "            scale = lumi * xsec_125 / n_total\n",
    "            cutflows[name].fill(len(events) * ['all'], weight=scale)\n",
    "            cutflows[name].fill(\n",
    "                len(events[events.HLT.TripleMu_5_3_3_Mass3p8_DZ == 1]) * ['TripleMu_5_3_3_Mass3p8_DZ'], \n",
    "                weight=scale\n",
    "            )\n",
    "            eff_5_3_3.append(len(events[events.HLT.TripleMu_5_3_3_Mass3p8_DZ == 1])/len(events))\n",
    "            cutflows[name].fill(\n",
    "                len(events[events.HLT.TripleMu_10_5_5_DZ == 1]) * ['TripleMu_10_5_5_DZ'], \n",
    "                weight=scale\n",
    "            )\n",
    "            eff_10_5_5.append(len(events[events.HLT.TripleMu_10_5_5_DZ == 1])/len(events))\n",
    "            cutflows[name].fill(\n",
    "                len(events[\n",
    "                    (events.HLT.TripleMu_5_3_3_Mass3p8_DZ == 1) | (events.HLT.TripleMu_10_5_5_DZ == 1)\n",
    "                ]) * ['TripleMu_10_5_5_DZ | TripleMu_5_3_3_Mass3p8_DZ'], \n",
    "                weight=scale\n",
    "            )\n",
    "            eff_or.append(\n",
    "                len(\n",
    "                    events[(events.HLT.TripleMu_5_3_3_Mass3p8_DZ == 1) | (events.HLT.TripleMu_10_5_5_DZ == 1)]\n",
    "                )/len(events)\n",
    "            )"
   ]
  },
  {
   "cell_type": "code",
   "execution_count": 15,
   "id": "afa3248b",
   "metadata": {},
   "outputs": [
    {
     "data": {
      "text/plain": [
       "[0.0002,\n",
       " 0.0016326530612244899,\n",
       " 0.006,\n",
       " 0.0301,\n",
       " 0.14,\n",
       " 0.005,\n",
       " 0.0165,\n",
       " 0.057755102040816325,\n",
       " 0.249,\n",
       " 0.4226,\n",
       " 0.0272,\n",
       " 0.0788,\n",
       " 0.2841,\n",
       " 0.4299,\n",
       " 0.3824489795918367,\n",
       " 0.1344,\n",
       " 0.328,\n",
       " 0.4371,\n",
       " 0.3839795918367347,\n",
       " 0.3019387755102041]"
      ]
     },
     "execution_count": 15,
     "metadata": {},
     "output_type": "execute_result"
    }
   ],
   "source": [
    "eff_10_5_5"
   ]
  },
  {
   "cell_type": "code",
   "execution_count": 17,
   "id": "79798f3d",
   "metadata": {},
   "outputs": [
    {
     "data": {
      "image/png": "[encoded data removed]",
      "text/plain": [
       "<Figure size 864x720 with 2 Axes>"
      ]
     },
     "metadata": {
      "needs_background": "light"
     },
     "output_type": "display_data"
    }
   ],
   "source": [
    "m_phi_space = lambda m_phi_max : np.linspace(1, m_phi_max, 100)\n",
    "fig, ax = plt.subplots(1, figsize=(12, 10))\n",
    "colors = np.array(eff_10_5_5) / np.array(eff_or)\n",
    "sc = ax.scatter(m_phi, temp, c=colors, s=200)\n",
    "cbar = plt.colorbar(sc, ax=ax)\n",
    "ax.plot(m_phi_space(8), 0.25 * m_phi_space(8), 'black')\n",
    "ax.plot(m_phi_space(8), 4 * m_phi_space(8), 'black')\n",
    "ax.plot([1, 1], [0.25, 4], 'black')\n",
    "ax.plot([8, 8], [2, 32], 'black')\n",
    "ax.set_yscale('log')\n",
    "ax.set_xlim(0, 9)\n",
    "ax.set_ylim(0.2, 50)\n",
    "ax.set_xlabel(r'$m_{\\phi}$ [GeV]')\n",
    "ax.set_ylabel('T [GeV]')\n",
    "cbar.set_label(r'$\\epsilon$ ratio', rotation=90, labelpad=20)\n",
    "plt.tight_layout()"
   ]
  },
  {
   "cell_type": "code",
   "execution_count": null,
   "id": "7840928e",
   "metadata": {},
   "outputs": [],
   "source": []
  }
 ],
 "metadata": {
  "kernelspec": {
   "display_name": "myenv",
   "language": "python",
   "name": "myenv"
  },
  "language_info": {
   "codemirror_mode": {
    "name": "ipython",
    "version": 3
   },
   "file_extension": ".py",
   "mimetype": "text/x-python",
   "name": "python",
   "nbconvert_exporter": "python",
   "pygments_lexer": "ipython3",
   "version": "3.9.12"
  }
 },
 "nbformat": 4,
 "nbformat_minor": 5
}
