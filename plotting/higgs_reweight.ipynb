{
 "cells": [
  {
   "cell_type": "markdown",
   "id": "26c7f632",
   "metadata": {},
   "source": [
    "## Check HDF5 File\n",
    "Utility notebook used when make_plots.py isn't working as expected.<br>\n",
    "Open an HDF5 output of workflows/SUEP_coffea.py and check out its contents."
   ]
  },
  {
   "cell_type": "code",
   "execution_count": 1,
   "id": "8db74d48",
   "metadata": {},
   "outputs": [],
   "source": [
    "import pandas as pd\n",
    "import matplotlib.pyplot as plt\n",
    "import numpy as np"
   ]
  },
  {
   "cell_type": "code",
   "execution_count": 2,
   "id": "b1db9d32",
   "metadata": {},
   "outputs": [],
   "source": [
    "def h5load(ifile, label):\n",
    "    with pd.HDFStore(ifile, 'r') as store:\n",
    "        data = store[label] \n",
    "        metadata = store.get_storer(label).attrs.metadata\n",
    "        return data, metadata"
   ]
  },
  {
   "cell_type": "code",
   "execution_count": 3,
   "id": "7f91befb-2ae7-489d-8267-9ac949b3775c",
   "metadata": {},
   "outputs": [],
   "source": [
    "f = '../out.hdf5'\n",
    "event_vars, m = h5load(f,'vars')"
   ]
  },
  {
   "cell_type": "code",
   "execution_count": 4,
   "id": "3b607264-da52-43a4-97c4-b3653515e3da",
   "metadata": {},
   "outputs": [
    {
     "data": {
      "text/html": [
       "<div>\n",
       "<style scoped>\n",
       "    .dataframe tbody tr th:only-of-type {\n",
       "        vertical-align: middle;\n",
       "    }\n",
       "\n",
       "    .dataframe tbody tr th {\n",
       "        vertical-align: top;\n",
       "    }\n",
       "\n",
       "    .dataframe thead th {\n",
       "        text-align: right;\n",
       "    }\n",
       "</style>\n",
       "<table border=\"1\" class=\"dataframe\">\n",
       "  <thead>\n",
       "    <tr style=\"text-align: right;\">\n",
       "      <th></th>\n",
       "      <th>ntracks_track_down</th>\n",
       "      <th>ngood_fastjets_track_down</th>\n",
       "      <th>SUEP_genMass_track_down</th>\n",
       "      <th>SUEP_genPt_track_down</th>\n",
       "      <th>SUEP_nconst_CL_track_down</th>\n",
       "      <th>SUEP_pt_avg_b_CL_track_down</th>\n",
       "      <th>SUEP_S1_CL_track_down</th>\n",
       "      <th>SUEP_pt_avg_CL_track_down</th>\n",
       "      <th>SUEP_pt_CL_track_down</th>\n",
       "      <th>SUEP_eta_CL_track_down</th>\n",
       "      <th>...</th>\n",
       "      <th>SUEP_delta_mass_genMass_CL</th>\n",
       "      <th>SUEP_delta_pt_genPt_CL</th>\n",
       "      <th>ISR_nconst_CL</th>\n",
       "      <th>ISR_pt_avg_b_CL</th>\n",
       "      <th>ISR_S1_CL</th>\n",
       "      <th>ISR_pt_avg_CL</th>\n",
       "      <th>ISR_pt_CL</th>\n",
       "      <th>ISR_eta_CL</th>\n",
       "      <th>ISR_phi_CL</th>\n",
       "      <th>ISR_mass_CL</th>\n",
       "    </tr>\n",
       "  </thead>\n",
       "  <tbody>\n",
       "    <tr>\n",
       "      <th>0</th>\n",
       "      <td>105</td>\n",
       "      <td>2</td>\n",
       "      <td>125.0</td>\n",
       "      <td>424.0</td>\n",
       "      <td>83.0</td>\n",
       "      <td>1.306494</td>\n",
       "      <td>0.510804</td>\n",
       "      <td>4.715361</td>\n",
       "      <td>378.402916</td>\n",
       "      <td>1.383311</td>\n",
       "      <td>...</td>\n",
       "      <td>33.142592</td>\n",
       "      <td>-43.107987</td>\n",
       "      <td>17.0</td>\n",
       "      <td>3.359703</td>\n",
       "      <td>0.133776</td>\n",
       "      <td>18.368773</td>\n",
       "      <td>305.953097</td>\n",
       "      <td>-1.363985</td>\n",
       "      <td>-2.317760</td>\n",
       "      <td>79.682451</td>\n",
       "    </tr>\n",
       "    <tr>\n",
       "      <th>1</th>\n",
       "      <td>152</td>\n",
       "      <td>3</td>\n",
       "      <td>125.0</td>\n",
       "      <td>804.0</td>\n",
       "      <td>88.0</td>\n",
       "      <td>0.853394</td>\n",
       "      <td>0.860418</td>\n",
       "      <td>4.654535</td>\n",
       "      <td>405.422396</td>\n",
       "      <td>0.192469</td>\n",
       "      <td>...</td>\n",
       "      <td>-30.855118</td>\n",
       "      <td>-398.577604</td>\n",
       "      <td>37.0</td>\n",
       "      <td>5.107768</td>\n",
       "      <td>0.222021</td>\n",
       "      <td>14.771062</td>\n",
       "      <td>517.434802</td>\n",
       "      <td>0.276068</td>\n",
       "      <td>-2.752703</td>\n",
       "      <td>231.574509</td>\n",
       "    </tr>\n",
       "    <tr>\n",
       "      <th>2</th>\n",
       "      <td>162</td>\n",
       "      <td>1</td>\n",
       "      <td>125.0</td>\n",
       "      <td>472.0</td>\n",
       "      <td>NaN</td>\n",
       "      <td>NaN</td>\n",
       "      <td>NaN</td>\n",
       "      <td>NaN</td>\n",
       "      <td>NaN</td>\n",
       "      <td>NaN</td>\n",
       "      <td>...</td>\n",
       "      <td>NaN</td>\n",
       "      <td>NaN</td>\n",
       "      <td>NaN</td>\n",
       "      <td>NaN</td>\n",
       "      <td>NaN</td>\n",
       "      <td>NaN</td>\n",
       "      <td>NaN</td>\n",
       "      <td>NaN</td>\n",
       "      <td>NaN</td>\n",
       "      <td>NaN</td>\n",
       "    </tr>\n",
       "    <tr>\n",
       "      <th>3</th>\n",
       "      <td>183</td>\n",
       "      <td>2</td>\n",
       "      <td>125.0</td>\n",
       "      <td>1036.0</td>\n",
       "      <td>140.0</td>\n",
       "      <td>0.689604</td>\n",
       "      <td>0.927803</td>\n",
       "      <td>6.645322</td>\n",
       "      <td>925.875406</td>\n",
       "      <td>-0.340717</td>\n",
       "      <td>...</td>\n",
       "      <td>5.787555</td>\n",
       "      <td>-90.508445</td>\n",
       "      <td>23.0</td>\n",
       "      <td>4.772380</td>\n",
       "      <td>0.091499</td>\n",
       "      <td>20.166483</td>\n",
       "      <td>461.828913</td>\n",
       "      <td>-0.559936</td>\n",
       "      <td>-1.987603</td>\n",
       "      <td>113.769226</td>\n",
       "    </tr>\n",
       "    <tr>\n",
       "      <th>4</th>\n",
       "      <td>181</td>\n",
       "      <td>2</td>\n",
       "      <td>125.0</td>\n",
       "      <td>634.0</td>\n",
       "      <td>142.0</td>\n",
       "      <td>0.629919</td>\n",
       "      <td>0.775671</td>\n",
       "      <td>3.921174</td>\n",
       "      <td>550.471126</td>\n",
       "      <td>-0.583231</td>\n",
       "      <td>...</td>\n",
       "      <td>-6.701305</td>\n",
       "      <td>-78.447402</td>\n",
       "      <td>19.0</td>\n",
       "      <td>1.720914</td>\n",
       "      <td>0.565477</td>\n",
       "      <td>8.900580</td>\n",
       "      <td>166.041451</td>\n",
       "      <td>-1.458392</td>\n",
       "      <td>-2.364671</td>\n",
       "      <td>43.273229</td>\n",
       "    </tr>\n",
       "    <tr>\n",
       "      <th>...</th>\n",
       "      <td>...</td>\n",
       "      <td>...</td>\n",
       "      <td>...</td>\n",
       "      <td>...</td>\n",
       "      <td>...</td>\n",
       "      <td>...</td>\n",
       "      <td>...</td>\n",
       "      <td>...</td>\n",
       "      <td>...</td>\n",
       "      <td>...</td>\n",
       "      <td>...</td>\n",
       "      <td>...</td>\n",
       "      <td>...</td>\n",
       "      <td>...</td>\n",
       "      <td>...</td>\n",
       "      <td>...</td>\n",
       "      <td>...</td>\n",
       "      <td>...</td>\n",
       "      <td>...</td>\n",
       "      <td>...</td>\n",
       "      <td>...</td>\n",
       "    </tr>\n",
       "    <tr>\n",
       "      <th>339</th>\n",
       "      <td>112</td>\n",
       "      <td>1</td>\n",
       "      <td>125.0</td>\n",
       "      <td>534.0</td>\n",
       "      <td>NaN</td>\n",
       "      <td>NaN</td>\n",
       "      <td>NaN</td>\n",
       "      <td>NaN</td>\n",
       "      <td>NaN</td>\n",
       "      <td>NaN</td>\n",
       "      <td>...</td>\n",
       "      <td>NaN</td>\n",
       "      <td>NaN</td>\n",
       "      <td>NaN</td>\n",
       "      <td>NaN</td>\n",
       "      <td>NaN</td>\n",
       "      <td>NaN</td>\n",
       "      <td>NaN</td>\n",
       "      <td>NaN</td>\n",
       "      <td>NaN</td>\n",
       "      <td>NaN</td>\n",
       "    </tr>\n",
       "    <tr>\n",
       "      <th>340</th>\n",
       "      <td>167</td>\n",
       "      <td>3</td>\n",
       "      <td>125.0</td>\n",
       "      <td>364.0</td>\n",
       "      <td>105.0</td>\n",
       "      <td>1.025097</td>\n",
       "      <td>0.787714</td>\n",
       "      <td>3.539560</td>\n",
       "      <td>358.125773</td>\n",
       "      <td>0.637259</td>\n",
       "      <td>...</td>\n",
       "      <td>4.139242</td>\n",
       "      <td>1.935707</td>\n",
       "      <td>23.0</td>\n",
       "      <td>1.687848</td>\n",
       "      <td>0.497527</td>\n",
       "      <td>14.955825</td>\n",
       "      <td>339.392707</td>\n",
       "      <td>-2.024883</td>\n",
       "      <td>-2.095348</td>\n",
       "      <td>67.171841</td>\n",
       "    </tr>\n",
       "    <tr>\n",
       "      <th>341</th>\n",
       "      <td>133</td>\n",
       "      <td>2</td>\n",
       "      <td>125.0</td>\n",
       "      <td>590.0</td>\n",
       "      <td>92.0</td>\n",
       "      <td>0.735238</td>\n",
       "      <td>0.866672</td>\n",
       "      <td>4.061328</td>\n",
       "      <td>367.699125</td>\n",
       "      <td>1.428295</td>\n",
       "      <td>...</td>\n",
       "      <td>-30.966674</td>\n",
       "      <td>-215.090374</td>\n",
       "      <td>26.0</td>\n",
       "      <td>4.323218</td>\n",
       "      <td>0.152126</td>\n",
       "      <td>12.421387</td>\n",
       "      <td>309.940754</td>\n",
       "      <td>-0.706165</td>\n",
       "      <td>-0.143720</td>\n",
       "      <td>117.601473</td>\n",
       "    </tr>\n",
       "    <tr>\n",
       "      <th>342</th>\n",
       "      <td>171</td>\n",
       "      <td>2</td>\n",
       "      <td>125.0</td>\n",
       "      <td>471.0</td>\n",
       "      <td>135.0</td>\n",
       "      <td>1.121807</td>\n",
       "      <td>0.787955</td>\n",
       "      <td>3.938465</td>\n",
       "      <td>508.999741</td>\n",
       "      <td>-1.158913</td>\n",
       "      <td>...</td>\n",
       "      <td>106.575029</td>\n",
       "      <td>51.041188</td>\n",
       "      <td>28.0</td>\n",
       "      <td>1.510682</td>\n",
       "      <td>0.263407</td>\n",
       "      <td>9.064036</td>\n",
       "      <td>252.437216</td>\n",
       "      <td>-1.217838</td>\n",
       "      <td>-0.949511</td>\n",
       "      <td>49.219481</td>\n",
       "    </tr>\n",
       "    <tr>\n",
       "      <th>343</th>\n",
       "      <td>124</td>\n",
       "      <td>2</td>\n",
       "      <td>125.0</td>\n",
       "      <td>558.0</td>\n",
       "      <td>104.0</td>\n",
       "      <td>0.988053</td>\n",
       "      <td>0.792062</td>\n",
       "      <td>5.017410</td>\n",
       "      <td>514.080926</td>\n",
       "      <td>-1.007909</td>\n",
       "      <td>...</td>\n",
       "      <td>-3.837914</td>\n",
       "      <td>-40.813471</td>\n",
       "      <td>11.0</td>\n",
       "      <td>1.915046</td>\n",
       "      <td>0.049644</td>\n",
       "      <td>42.779338</td>\n",
       "      <td>469.057128</td>\n",
       "      <td>-1.611038</td>\n",
       "      <td>-0.228387</td>\n",
       "      <td>45.899814</td>\n",
       "    </tr>\n",
       "  </tbody>\n",
       "</table>\n",
       "<p>344 rows × 59 columns</p>\n",
       "</div>"
      ],
      "text/plain": [
       "     ntracks_track_down  ngood_fastjets_track_down  SUEP_genMass_track_down  \\\n",
       "0                   105                          2                    125.0   \n",
       "1                   152                          3                    125.0   \n",
       "2                   162                          1                    125.0   \n",
       "3                   183                          2                    125.0   \n",
       "4                   181                          2                    125.0   \n",
       "..                  ...                        ...                      ...   \n",
       "339                 112                          1                    125.0   \n",
       "340                 167                          3                    125.0   \n",
       "341                 133                          2                    125.0   \n",
       "342                 171                          2                    125.0   \n",
       "343                 124                          2                    125.0   \n",
       "\n",
       "     SUEP_genPt_track_down  SUEP_nconst_CL_track_down  \\\n",
       "0                    424.0                       83.0   \n",
       "1                    804.0                       88.0   \n",
       "2                    472.0                        NaN   \n",
       "3                   1036.0                      140.0   \n",
       "4                    634.0                      142.0   \n",
       "..                     ...                        ...   \n",
       "339                  534.0                        NaN   \n",
       "340                  364.0                      105.0   \n",
       "341                  590.0                       92.0   \n",
       "342                  471.0                      135.0   \n",
       "343                  558.0                      104.0   \n",
       "\n",
       "     SUEP_pt_avg_b_CL_track_down  SUEP_S1_CL_track_down  \\\n",
       "0                       1.306494               0.510804   \n",
       "1                       0.853394               0.860418   \n",
       "2                            NaN                    NaN   \n",
       "3                       0.689604               0.927803   \n",
       "4                       0.629919               0.775671   \n",
       "..                           ...                    ...   \n",
       "339                          NaN                    NaN   \n",
       "340                     1.025097               0.787714   \n",
       "341                     0.735238               0.866672   \n",
       "342                     1.121807               0.787955   \n",
       "343                     0.988053               0.792062   \n",
       "\n",
       "     SUEP_pt_avg_CL_track_down  SUEP_pt_CL_track_down  SUEP_eta_CL_track_down  \\\n",
       "0                     4.715361             378.402916                1.383311   \n",
       "1                     4.654535             405.422396                0.192469   \n",
       "2                          NaN                    NaN                     NaN   \n",
       "3                     6.645322             925.875406               -0.340717   \n",
       "4                     3.921174             550.471126               -0.583231   \n",
       "..                         ...                    ...                     ...   \n",
       "339                        NaN                    NaN                     NaN   \n",
       "340                   3.539560             358.125773                0.637259   \n",
       "341                   4.061328             367.699125                1.428295   \n",
       "342                   3.938465             508.999741               -1.158913   \n",
       "343                   5.017410             514.080926               -1.007909   \n",
       "\n",
       "     ...  SUEP_delta_mass_genMass_CL  SUEP_delta_pt_genPt_CL  ISR_nconst_CL  \\\n",
       "0    ...                   33.142592              -43.107987           17.0   \n",
       "1    ...                  -30.855118             -398.577604           37.0   \n",
       "2    ...                         NaN                     NaN            NaN   \n",
       "3    ...                    5.787555              -90.508445           23.0   \n",
       "4    ...                   -6.701305              -78.447402           19.0   \n",
       "..   ...                         ...                     ...            ...   \n",
       "339  ...                         NaN                     NaN            NaN   \n",
       "340  ...                    4.139242                1.935707           23.0   \n",
       "341  ...                  -30.966674             -215.090374           26.0   \n",
       "342  ...                  106.575029               51.041188           28.0   \n",
       "343  ...                   -3.837914              -40.813471           11.0   \n",
       "\n",
       "     ISR_pt_avg_b_CL  ISR_S1_CL  ISR_pt_avg_CL   ISR_pt_CL  ISR_eta_CL  \\\n",
       "0           3.359703   0.133776      18.368773  305.953097   -1.363985   \n",
       "1           5.107768   0.222021      14.771062  517.434802    0.276068   \n",
       "2                NaN        NaN            NaN         NaN         NaN   \n",
       "3           4.772380   0.091499      20.166483  461.828913   -0.559936   \n",
       "4           1.720914   0.565477       8.900580  166.041451   -1.458392   \n",
       "..               ...        ...            ...         ...         ...   \n",
       "339              NaN        NaN            NaN         NaN         NaN   \n",
       "340         1.687848   0.497527      14.955825  339.392707   -2.024883   \n",
       "341         4.323218   0.152126      12.421387  309.940754   -0.706165   \n",
       "342         1.510682   0.263407       9.064036  252.437216   -1.217838   \n",
       "343         1.915046   0.049644      42.779338  469.057128   -1.611038   \n",
       "\n",
       "     ISR_phi_CL  ISR_mass_CL  \n",
       "0     -2.317760    79.682451  \n",
       "1     -2.752703   231.574509  \n",
       "2           NaN          NaN  \n",
       "3     -1.987603   113.769226  \n",
       "4     -2.364671    43.273229  \n",
       "..          ...          ...  \n",
       "339         NaN          NaN  \n",
       "340   -2.095348    67.171841  \n",
       "341   -0.143720   117.601473  \n",
       "342   -0.949511    49.219481  \n",
       "343   -0.228387    45.899814  \n",
       "\n",
       "[344 rows x 59 columns]"
      ]
     },
     "execution_count": 4,
     "metadata": {},
     "output_type": "execute_result"
    }
   ],
   "source": [
    "event_vars"
   ]
  },
  {
   "cell_type": "code",
   "execution_count": 6,
   "id": "13b1321c-4427-47f8-a861-3ce5603ba100",
   "metadata": {},
   "outputs": [
    {
     "name": "stdout",
     "output_type": "stream",
     "text": [
      "SUEP_genMass_track_down\n",
      "SUEP_genPt_track_down\n",
      "SUEP_delta_mass_genMass_CL_track_down\n",
      "SUEP_delta_pt_genPt_CL_track_down\n",
      "SUEP_genMass\n",
      "SUEP_genPt\n",
      "SUEP_delta_mass_genMass_CL\n",
      "SUEP_delta_pt_genPt_CL\n"
     ]
    }
   ],
   "source": [
    "for key in event_vars:\n",
    "    if \"gen\" not in key: continue\n",
    "    print(key)"
   ]
  },
  {
   "cell_type": "code",
   "execution_count": 7,
   "id": "bf447ba6",
   "metadata": {},
   "outputs": [
    {
     "data": {
      "text/plain": [
       "0       424.0\n",
       "1       804.0\n",
       "2       472.0\n",
       "3      1036.0\n",
       "4       634.0\n",
       "        ...  \n",
       "339     534.0\n",
       "340     364.0\n",
       "341     590.0\n",
       "342     471.0\n",
       "343     558.0\n",
       "Name: SUEP_genPt, Length: 344, dtype: float64"
      ]
     },
     "execution_count": 7,
     "metadata": {},
     "output_type": "execute_result"
    }
   ],
   "source": [
    "event_vars['SUEP_genPt']"
   ]
  },
  {
   "cell_type": "code",
   "execution_count": 120,
   "id": "433a1629",
   "metadata": {},
   "outputs": [],
   "source": [
    "gen_pt = event_vars['SUEP_genPt']"
   ]
  },
  {
   "cell_type": "code",
   "execution_count": 121,
   "id": "a13db0d9",
   "metadata": {},
   "outputs": [
    {
     "data": {
      "text/plain": [
       "(array([  6.,  19.,  55., 154.,  66.,  21.,  16.,   4.,   1.,   2.]),\n",
       " array([  78.5 ,  220.65,  362.8 ,  504.95,  647.1 ,  789.25,  931.4 ,\n",
       "        1073.55, 1215.7 , 1357.85, 1500.  ]),\n",
       " <BarContainer object of 10 artists>)"
      ]
     },
     "execution_count": 121,
     "metadata": {},
     "output_type": "execute_result"
    },
    {
     "data": {
      "image/png": "[encoded data removed]",
      "text/plain": [
       "<Figure size 432x288 with 1 Axes>"
      ]
     },
     "metadata": {
      "needs_background": "light"
     },
     "output_type": "display_data"
    }
   ],
   "source": [
    "plt.hist(gen_pt)"
   ]
  },
  {
   "cell_type": "code",
   "execution_count": 119,
   "id": "6ae84595-eb7b-4aaa-9f70-48c42d78565f",
   "metadata": {},
   "outputs": [],
   "source": [
    "Higgs_bins = np.array([   0,  400,  450,  500,  550,  600,  650,  700,  750,  800,  850,\n",
    "        900,  950, 1000, 1050, 1100, 1150, 1200, 1250, 1500])\n",
    "Higgs_factor = np.array([1.25, 1.25, 1.25, 1.25, 1.25, 1.24, 1.24, 1.24, 1.24, 1.24, 1.24,\n",
    "       1.24, 1.24, 1.24, 1.24, 1.24, 1.24, 1.24, 1.24])\n",
    "up_factor   = np.array([1.092, 1.092, 1.089, 1.088, 1.088, 1.087, 1.087, 1.087, 1.087,\n",
    "       1.087, 1.085, 1.086, 1.086, 1.086, 1.087, 1.087, 1.087, 1.086,\n",
    "       1.086])\n",
    "down_factor = np.array([0.88, 0.88, 0.89, 0.89, 0.89, 0.89, 0.89, 0.89, 0.89, 0.89, 0.89,\n",
    "       0.89, 0.89, 0.89, 0.89, 0.89, 0.88, 0.88, 0.88])\n",
    "binc = np.array([ 0.5*(Higgs_bins[i]+Higgs_bins[i+1])for i in range(Higgs_bins.shape[0]-1)])"
   ]
  },
  {
   "cell_type": "code",
   "execution_count": 122,
   "id": "ca69bf14-2fc1-43bc-88e7-787c200b99f9",
   "metadata": {},
   "outputs": [
    {
     "data": {
      "image/png": "[encoded data removed]",
      "text/plain": [
       "<Figure size 432x288 with 1 Axes>"
      ]
     },
     "metadata": {
      "needs_background": "light"
     },
     "output_type": "display_data"
    }
   ],
   "source": [
    "vals = plt.hist(gen_pt, bins=Higgs_bins)"
   ]
  },
  {
   "cell_type": "code",
   "execution_count": 144,
   "id": "22373aca-ec71-44d9-98fb-a5ab369e74dc",
   "metadata": {},
   "outputs": [],
   "source": [
    "freqs = vals[0]* Higgs_factor\n",
    "ups   = freqs * up_factor\n",
    "downs = freqs * down_factor"
   ]
  },
  {
   "cell_type": "code",
   "execution_count": 145,
   "id": "b4d15c06-11db-4539-ac42-f90b42bf2335",
   "metadata": {},
   "outputs": [
    {
     "data": {
      "text/plain": [
       "array([37., 14., 27., 43., 66., 47., 34., 13., 21.,  7.,  7.,  9.,  3.,\n",
       "        7.,  3.,  2.,  1.,  1.,  2.])"
      ]
     },
     "execution_count": 145,
     "metadata": {},
     "output_type": "execute_result"
    }
   ],
   "source": [
    "vals[0]"
   ]
  },
  {
   "cell_type": "code",
   "execution_count": 146,
   "id": "6b7710b3-9bff-4ef4-a4f6-8e22ad1f4c1b",
   "metadata": {},
   "outputs": [
    {
     "data": {
      "text/plain": [
       "array([46.25, 17.5 , 33.75, 53.75, 82.5 , 58.28, 42.16, 16.12, 26.04,\n",
       "        8.68,  8.68, 11.16,  3.72,  8.68,  3.72,  2.48,  1.24,  1.24,\n",
       "        2.48])"
      ]
     },
     "execution_count": 146,
     "metadata": {},
     "output_type": "execute_result"
    }
   ],
   "source": [
    "freqs"
   ]
  },
  {
   "cell_type": "code",
   "execution_count": 147,
   "id": "6c788e0b-59e0-48a8-9a62-0b6392500c50",
   "metadata": {},
   "outputs": [
    {
     "data": {
      "text/plain": [
       "(array([40.7   , 15.4   , 30.0375, 47.8375, 73.425 , 51.8692, 37.5224,\n",
       "        14.3468, 23.1756,  7.7252,  7.7252,  9.9324,  3.3108,  7.7252,\n",
       "         3.3108,  2.2072,  1.0912,  1.0912,  2.1824]),\n",
       " array([   0,  400,  450,  500,  550,  600,  650,  700,  750,  800,  850,\n",
       "         900,  950, 1000, 1050, 1100, 1150, 1200, 1250, 1500]),\n",
       " <BarContainer object of 19 artists>)"
      ]
     },
     "execution_count": 147,
     "metadata": {},
     "output_type": "execute_result"
    },
    {
     "data": {
      "image/png": "[encoded data removed]",
      "text/plain": [
       "<Figure size 432x288 with 1 Axes>"
      ]
     },
     "metadata": {
      "needs_background": "light"
     },
     "output_type": "display_data"
    }
   ],
   "source": [
    "plt.hist(binc, bins=vals[1], weights=freqs)\n",
    "plt.hist(binc, bins=vals[1], weights=ups, fill=False)\n",
    "plt.hist(binc, bins=vals[1], weights=downs, fill=False)"
   ]
  },
  {
   "cell_type": "code",
   "execution_count": 148,
   "id": "85d51917-2f25-4b0f-a296-dd8977134e61",
   "metadata": {},
   "outputs": [],
   "source": [
    "start = vals[0].sum()\n",
    "end = freqs.sum()\n",
    "factor = start/end"
   ]
  },
  {
   "cell_type": "code",
   "execution_count": 149,
   "id": "247a7a6f-1f20-49b6-ae4e-104f6f591f7f",
   "metadata": {},
   "outputs": [
    {
     "data": {
      "text/plain": [
       "0.8029316341059215"
      ]
     },
     "execution_count": 149,
     "metadata": {},
     "output_type": "execute_result"
    }
   ],
   "source": [
    "factor"
   ]
  },
  {
   "cell_type": "code",
   "execution_count": 150,
   "id": "4f6a9cdb-8af0-4418-b91e-14d950d0e790",
   "metadata": {},
   "outputs": [],
   "source": [
    "freqs = freqs * factor\n",
    "ups = ups * factor\n",
    "downs = downs * factor"
   ]
  },
  {
   "cell_type": "code",
   "execution_count": 152,
   "id": "31901baa-da94-4f96-aa5b-bf57dbf9763f",
   "metadata": {},
   "outputs": [
    {
     "data": {
      "text/plain": [
       "array([37.13558808, 14.0513036 , 27.09894265, 43.15757533, 66.24185981,\n",
       "       46.79485564, 33.85159769, 12.94325794, 20.90833975,  6.96944658,\n",
       "        6.96944658,  8.96071704,  2.98690568,  6.96944658,  2.98690568,\n",
       "        1.99127045,  0.99563523,  0.99563523,  1.99127045])"
      ]
     },
     "execution_count": 152,
     "metadata": {},
     "output_type": "execute_result"
    }
   ],
   "source": [
    "freqs"
   ]
  },
  {
   "cell_type": "code",
   "execution_count": 151,
   "id": "1c496531-4451-41c9-83e8-5e9c1790aab6",
   "metadata": {},
   "outputs": [
    {
     "data": {
      "text/plain": [
       "(array([32.67931751, 12.36514717, 24.11805896, 38.41024205, 58.95525523,\n",
       "        41.64742152, 30.12792195, 11.51949957, 18.60842238,  6.20280746,\n",
       "         6.20280746,  7.97503816,  2.65834605,  6.20280746,  2.65834605,\n",
       "         1.7722307 ,  0.876159  ,  0.876159  ,  1.752318  ]),\n",
       " array([   0,  400,  450,  500,  550,  600,  650,  700,  750,  800,  850,\n",
       "         900,  950, 1000, 1050, 1100, 1150, 1200, 1250, 1500]),\n",
       " <BarContainer object of 19 artists>)"
      ]
     },
     "execution_count": 151,
     "metadata": {},
     "output_type": "execute_result"
    },
    {
     "data": {
      "image/png": "[encoded data removed]",
      "text/plain": [
       "<Figure size 432x288 with 1 Axes>"
      ]
     },
     "metadata": {
      "needs_background": "light"
     },
     "output_type": "display_data"
    }
   ],
   "source": [
    "plt.hist(binc, bins=vals[1], weights=freqs)\n",
    "plt.hist(binc, bins=vals[1], weights=ups, fill=False)\n",
    "plt.hist(binc, bins=vals[1], weights=downs, fill=False)"
   ]
  },
  {
   "cell_type": "code",
   "execution_count": 153,
   "id": "7598ee02-3b1b-4a55-828e-63022095d7b6",
   "metadata": {},
   "outputs": [],
   "source": [
    "weight = freqs / vals[0]\n",
    "up_weights = ups / vals[0]\n",
    "down_weights = downs / vals[0]"
   ]
  },
  {
   "cell_type": "code",
   "execution_count": 154,
   "id": "88025a2b-0656-49de-838e-857ef7a16e8b",
   "metadata": {},
   "outputs": [
    {
     "data": {
      "text/plain": [
       "(array([0.8832248 , 0.8832248 , 0.89326144, 0.89326144, 0.89326144,\n",
       "        0.88611535, 0.88611535, 0.88611535, 0.88611535, 0.88611535,\n",
       "        0.88611535, 0.88611535, 0.88611535, 0.88611535, 0.88611535,\n",
       "        0.88611535, 0.876159  , 0.876159  , 0.876159  ]),\n",
       " array([   0,  400,  450,  500,  550,  600,  650,  700,  750,  800,  850,\n",
       "         900,  950, 1000, 1050, 1100, 1150, 1200, 1250, 1500]),\n",
       " <BarContainer object of 19 artists>)"
      ]
     },
     "execution_count": 154,
     "metadata": {},
     "output_type": "execute_result"
    },
    {
     "data": {
      "image/png": "[encoded data removed]",
      "text/plain": [
       "<Figure size 432x288 with 1 Axes>"
      ]
     },
     "metadata": {
      "needs_background": "light"
     },
     "output_type": "display_data"
    }
   ],
   "source": [
    "plt.hist(binc, bins=vals[1], weights=weight)\n",
    "plt.hist(binc, bins=vals[1], weights=up_weights, fill=False)\n",
    "plt.hist(binc, bins=vals[1], weights=down_weights, fill=False)"
   ]
  },
  {
   "cell_type": "code",
   "execution_count": 156,
   "id": "dbd693ff-e552-4e27-b5b4-b4a10b4b23e7",
   "metadata": {},
   "outputs": [
    {
     "data": {
      "text/plain": [
       "array([0.8832248 , 0.8832248 , 0.89326144, 0.89326144, 0.89326144,\n",
       "       0.88611535, 0.88611535, 0.88611535, 0.88611535, 0.88611535,\n",
       "       0.88611535, 0.88611535, 0.88611535, 0.88611535, 0.88611535,\n",
       "       0.88611535, 0.876159  , 0.876159  , 0.876159  ])"
      ]
     },
     "execution_count": 156,
     "metadata": {},
     "output_type": "execute_result"
    }
   ],
   "source": [
    "down_weights"
   ]
  },
  {
   "cell_type": "code",
   "execution_count": null,
   "id": "af1b014c-e191-47b8-bc69-a53a33ebb598",
   "metadata": {},
   "outputs": [],
   "source": []
  }
 ],
 "metadata": {
  "kernelspec": {
   "display_name": "dask",
   "language": "python",
   "name": "dask"
  },
  "language_info": {
   "codemirror_mode": {
    "name": "ipython",
    "version": 3
   },
   "file_extension": ".py",
   "mimetype": "text/x-python",
   "name": "python",
   "nbconvert_exporter": "python",
   "pygments_lexer": "ipython3",
   "version": "3.9.13"
  }
 },
 "nbformat": 4,
 "nbformat_minor": 5
}
